{
 "cells": [
  {
   "cell_type": "markdown",
   "metadata": {
    "collapsed": false,
    "editable": false,
    "jupyter": {
     "outputs_hidden": false
    }
   },
   "source": [
    "\n",
    "## <span style='color:#e91e63'>LAB 12 \\(Due Wed, April 30 by 11:59pm\\). </span>\n",
    "\n",
    "<span style='color:#e91e63'>For each exercise, answer in the cell below each exercise. Make sure to transfer your answers to Gradescope for your final submission! Please note that some exercises require code while some just require an English answer to a code\\-related question. If so, begin the cell with \\#.</span>\n",
    "\n",
    "<span style='color:#e91e63'><u>Submitting:</u></span><span style='color:#e91e63'> You can keep scratch work in this notebook, but you will submit all your final responses on the assignment linked from D2L, which routes you to Gradescope for your submission. </span>\n"
   ]
  },
  {
   "cell_type": "markdown",
   "metadata": {
    "collapsed": false,
    "editable": false,
    "jupyter": {
     "outputs_hidden": false
    }
   },
   "source": [
    "#### <span style='color:#3f51b5'>Question 0 \\(Preamble Code\\)</span>\n",
    "\n",
    "**Question 0:** Run the code in the box below.  This box defines a function that we will use later to make bifurcation diagrams.  You will need to run this box <u>each time</u> you start up this assignment, or each time that the timer on the free version of cocalc runs out.  If you get any confusing errors, it might be helpful to try re-running this code.\n",
    "\n",
    "\n"
   ]
  },
  {
   "cell_type": "code",
   "execution_count": 1,
   "metadata": {
    "collapsed": false,
    "deletable": false,
    "editable": false,
    "jupyter": {
     "outputs_hidden": false
    }
   },
   "outputs": [],
   "source": [
    "def find_zeros_1D(f, x_range):\n",
    "    x, xmin, xmax = x_range\n",
    "    roots = [x0.rhs().n() for x0 in solve(f, x)]\n",
    "    roots = [real(x0) for x0 in roots if abs(imag(x0)) < 1E-12]\n",
    "    return [x0 for x0 in roots if xmin <= x0 <= xmax]\n",
    "\n",
    "def plot_bifurcation_diagram(f, param_range, var_range, **options):\n",
    "    parameter, param_min, param_max = param_range\n",
    "    variable, var_min, var_max = var_range\n",
    "    stable_style = {\"color\": \"blue\", \"linewidth\": 3}\n",
    "    unstable_style = {\"color\": \"red\", \"linewidth\": 3}\n",
    "    bifpoints_style = {\"color\": \"orange\", \"size\": 50}\n",
    "    options.setdefault(\"frame\", False)\n",
    "    options.setdefault(\"axes\", True)\n",
    "    options.setdefault(\"axes_labels\", (\"${}$\".format(parameter), \"${}$\".format(variable)))\n",
    "    df = diff(f, variable)\n",
    "\n",
    "    # An eq point is stable if df/dx < 0\n",
    "    stable_style.update(options)\n",
    "    p = implicit_plot(f, param_range, var_range, region=-df, **stable_style)\n",
    "\n",
    "    # An eq point is unstable if df/dx > 0\n",
    "    unstable_style.update(options)\n",
    "    p += implicit_plot(f, param_range, var_range, region=df, **unstable_style)\n",
    "\n",
    "    if bifpoints_style:\n",
    "        bifpoints = [(r.rhs().n(), x.rhs().n()) for r, x in solve((f, df), (parameter, variable))]\n",
    "        for param_value, var_value in bifpoints:\n",
    "            if not (param_value in RR and param_min <= param_value <= param_max and\n",
    "                    var_value in RR and var_min <= var_value <= var_max):\n",
    "                continue\n",
    "            p += point((param_value, var_value), **bifpoints_style)\n",
    "    return p"
   ]
  },
  {
   "cell_type": "markdown",
   "metadata": {
    "collapsed": false,
    "editable": false,
    "jupyter": {
     "outputs_hidden": false
    }
   },
   "source": [
    "#### <span style='font-family:Arial'><span style='color:#3f51b5'>**Questions 1.1-1.7 (The Lac Operon)**</span></span>\n",
    "\n",
    "\n",
    "\n",
    "E. coli is a bacterium that naturally occurs in the stomach that and it is a great example of a biological switch.  E. coli uses lactose for energy. Lactose can diffuse into the cell, but having a channel specifically designed to lead extracellular lactose into the cell would make the process much faster.  The protein *lactose permease* creates a channel to import lactose into the cell.  However, channel proteins like this take a lot of resources to build.  Therefore, E. coli will only build the channels when there is plenty of extracellular lactose around (this is the bacterium \"switching on\" production).  The assumptions we will make for this model are:\n",
    "\n",
    "- Let $X$ be the lactose concentration in the E. coli cell.  \n",
    "- Lactose in the cell is metabolized (outflow) at a per-mass (or per capita) rate $r$.\n",
    "- The rate of import (inflow) of lactose is equal to the production rate of lactose permease.  The production rate of lactose permease is low when $X$ is low, and higher when $X$ is high.\n",
    "- The cell can only produce so much lactose permease at a time.  So the import rate of lactose only increases up to some maximum, then levels off.  We will use the following *sigmoid function*   to model the lactose import rate: $f(X) = 0.01+ \\dfrac{X^2}{1+X^2}$.\n",
    "\n",
    "**Question 1.1:** Fill in the formulas for the import rate (**inflow**) and metabolization rate (**<span style=\"color:orange\">outflow</span>**) from the information given above.  You will upload a screenshot on Gradescope that shows your name, code, and output cell.\n",
    "\n",
    "\n",
    "\n",
    "\n",
    "\n",
    "\n"
   ]
  },
  {
   "cell_type": "code",
   "execution_count": null,
   "metadata": {
    "collapsed": false,
    "editable": false,
    "jupyter": {
     "outputs_hidden": false
    }
   },
   "outputs": [],
   "source": [
    "r=0.4 ##for this example only, this fixes the value of r so that we can see both graphs.\n",
    "var('X')  ## Defining X as our state variable.\n",
    "import_rate(X) = *** ##Fill in the import rate here.\n",
    "metab_rate(X) =  *** ##Fill in the metabolization rate here.\n",
    "p = plot(import_rate(X), (X, 0, 5), color=\"black\", legend_label=\"Import\")\n",
    "p += plot(metab_rate, (X, 0, 5), color=\"orange\", legend_label=\"Metabolism\")\n",
    "p.show(ymin=0, ymax=1.5, aspect_ratio=2, figsize=7, frame=True, axes_labels=(\"$X$ (lactose concentration)\", \"Input/output rates\"))"
   ]
  },
  {
   "cell_type": "code",
   "execution_count": null,
   "metadata": {
    "collapsed": false,
    "jupyter": {
     "outputs_hidden": false
    }
   },
   "outputs": [],
   "source": [
    "#Copy and paste, then modify here."
   ]
  },
  {
   "cell_type": "markdown",
   "metadata": {
    "collapsed": false,
    "editable": false,
    "jupyter": {
     "outputs_hidden": false
    }
   },
   "source": [
    "For questions 1.2, 1.3, and 1.4 we will use the single cell of code below.\n",
    "\n",
    "**Question 1.2:**  Run the code below question 1.4 to implement a slider for $r$.  As you move the slider, what aspect of the graph of the outflow is changing?\n",
    "\n",
    "**Question 1.3:** If we want to find the equilibria of the system, then we need to know when $X'=0$.  Since we have graphed the two components of the $X'$ equation on the same graphic, what must be the relationship between the inflow and the outflow?  _See Gradescope for options._\n",
    "\n",
    "**Question 1.4:**  One way we could quickly classify the stability of each equilibrium point is called the \"over-under method\".  Since the black curve represents inflow and the orange line represents outflow, we can quickly find the sign of $X'$ if we know which component is larger.  If inflow is \"over\" (i.e. larger) and outflow is \"under\" (i.e. smaller), then what is the sign of $X'$?  What does this say about the direction our change vector should point?  What about if inflow was \"under\" and outflow was \"over\"?\n"
   ]
  },
  {
   "cell_type": "code",
   "execution_count": null,
   "metadata": {
    "collapsed": false,
    "editable": false,
    "jupyter": {
     "outputs_hidden": false
    }
   },
   "outputs": [],
   "source": [
    "##Run this cell to get the graphs that will help you answer questions 1.2, 1.3, and 1.4\n",
    "@interact\n",
    "def lactose_equilibria(r=slider(0.15, 0.8, 0.01, label=\"r (Metabolization rate)\", default=0.4)):\n",
    "    import_rate(X) = 0.01 + X^2 / (1 + X^2)\n",
    "    metab_rate(X) = r*X\n",
    "    p = plot(import_rate(X), (X, 0, 5), color=\"black\", legend_label=\"Import rate\")\n",
    "    p += plot(metab_rate(X), (X, 0, 5), color=\"orange\", legend_label=\"Metabolism rate\")\n",
    "    \n",
    "    p.show(ymin=0, ymax=1.5, aspect_ratio=2, figsize=10, frame=True, axes_labels=(\"$X$ (lactose concentration)\", \"Input/output rates\"))"
   ]
  },
  {
   "cell_type": "markdown",
   "metadata": {
    "collapsed": false,
    "editable": false,
    "jupyter": {
     "outputs_hidden": false
    }
   },
   "source": [
    "**Question 1.5:**  Run the given code below.  There are two check boxes above the graphic.  Checking one will make dots on the **horizontal axis** of the plot showing which values of $X$ correspond to equilibrium values, and checking the other box will give you the stability of those equilibria (blue for stable, red for unstable).  There is also a slider for $r$.  As $r$ increases, at what value of $r$ do we suddenly switch from having 3 equilibria to having 1?  Give the smallest value of $r$ that corresponds to one equilibrium as $r$ increases.\n"
   ]
  },
  {
   "cell_type": "code",
   "execution_count": null,
   "metadata": {
    "collapsed": false,
    "editable": false,
    "jupyter": {
     "outputs_hidden": false
    }
   },
   "outputs": [],
   "source": [
    "@interact\n",
    "def lactose_equilibria(r=slider(0.15, 0.8, 0.01, label=\"r (Metabolization rate)\", default=0.4),\n",
    "                        show_eqpts=checkbox(default=False, label=\"Show equilibrium points\"), \n",
    "                        show_stability=checkbox(default=False, label=\"Include stability\")):\n",
    "    import_rate(X) = 0.01 + X^2 / (1 + X^2)\n",
    "    metab_rate(X) = r*X\n",
    "    p = plot(import_rate(X), (X, 0, 5), color=\"black\", legend_label=\"Import rate\")\n",
    "    p += plot(metab_rate(X), (X, 0, 5), color=\"orange\", legend_label=\"Metabolism rate\")\n",
    "    if show_eqpts:\n",
    "        vectorfield(X) = import_rate(X) - metab_rate(X)\n",
    "        vf_deriv(X) = diff(vectorfield(X), X)\n",
    "        eqpts = find_zeros_1D(vectorfield, (X, 0, 5))\n",
    "        for eqpt in eqpts:\n",
    "            stability = vf_deriv(eqpt)\n",
    "            if not show_stability:\n",
    "                color = \"purple\"\n",
    "            elif stability < 0:\n",
    "                color = \"blue\"\n",
    "            elif stability > 0:\n",
    "                color = \"red\"\n",
    "            else:\n",
    "                color = \"orange\"\n",
    "            p += point((eqpt, 0), color=color, size=80)\n",
    "    p.show(ymin=0, ymax=1.5, aspect_ratio=2, figsize=6, frame=True, axes_labels=(\"$X$ (lactose concentration)\", \"Input/output rates\"))"
   ]
  },
  {
   "cell_type": "markdown",
   "metadata": {
    "collapsed": false,
    "editable": false,
    "jupyter": {
     "outputs_hidden": false
    }
   },
   "source": [
    "**Question 1.6:**  Run the given code below.  This will plot a similar graph of the components of $X'$ on the left and you will build a bifurcation diagram on the right.  As you change the value of the parameter $r$, Cocalc will take a snapshot of where your equilibrium points are and then plot them on a vertical line on the graph on the right.  So each specific value of $r$ corresponds to a vertical slice of the bifurcation diagram, that represents a phase portrait of the model for that $r$ value.  Make sure to use the slider in all the values so that you make a full picture of the bifurcation diagram on the right.  You will upload a screenshot on Gradescope that shows your name and output cell.\n",
    "\n",
    "_Hint:_ you can test any values of $r$ by (after running the code) clicking the box with a number inside it (just to the right of the slider) and typing the value of $r$ you want to try.\n"
   ]
  },
  {
   "cell_type": "code",
   "execution_count": 2,
   "metadata": {
    "collapsed": false,
    "editable": false,
    "jupyter": {
     "outputs_hidden": false
    }
   },
   "outputs": [
    {
     "data": {
      "application/vnd.jupyter.widget-view+json": {
       "model_id": "4eff5e960d0c4064b0b7d006aace39ed",
       "version_major": 2,
       "version_minor": 0
      },
      "text/plain": [
       "Interactive function <function lac_bifurc_diagram at 0x7f2385380400> with 1 widget\n",
       "  r: TransformFloatSlider(v…"
      ]
     },
     "execution_count": 2,
     "metadata": {},
     "output_type": "execute_result"
    }
   ],
   "source": [
    "xmin = 0\n",
    "xmax = 3.1\n",
    "lac_bif_diagram = point(((0.25, xmin), (0.8, xmax)), size=0, aspect_ratio=0.12, axes_labels=(\"r\", \"X\"))\n",
    "\n",
    "@interact\n",
    "def lac_bifurc_diagram(r=slider(0.3, 0.8, 0.05, label=\"r (Metabolization rate)\", default=0.3)):\n",
    "    global lac_bif_diagram\n",
    "    import_rate(X) = 0.01 + X^2 / (1 + X^2)\n",
    "    metab_rate(X) = r*X\n",
    "    vectorfield(X) = import_rate(X) - metab_rate(X)\n",
    "    vf_deriv(X) = diff(vectorfield(X), X)\n",
    "    p = plot(import_rate(X), (X, xmin, xmax), color=\"black\", legend_label=\"Import rate\", \n",
    "             ymin=0, ymax=1.5, aspect_ratio=1.4, axes_labels=(\"$X$        \", \"Input/output rates\"))\n",
    "    p += plot(metab_rate(X), (X, xmin, xmax), color=\"orange\", legend_label=\"Metabolism rate\")\n",
    "    lac_bif_diagram += line(((r, xmin), (r, xmax)), color=\"lightgray\", linestyle=\"dashed\", thickness=1)\n",
    "    eqpts = find_zeros_1D(vectorfield, (X, xmin, xmax))\n",
    "    for eqpt in eqpts:\n",
    "        stability = vf_deriv(eqpt)\n",
    "        if stability < 0:\n",
    "            color = \"blue\"\n",
    "            legend_label=\"Stable\"\n",
    "        elif stability > 0:\n",
    "            color = \"red\"\n",
    "            legend_label=\"Unstable\"\n",
    "        else:\n",
    "            color = \"orange\"\n",
    "        p += point((eqpt, 0), color=color, size=50)\n",
    "        lac_bif_diagram += point((r, eqpt), color=color, size=50)\n",
    "    both = graphics_array([[p, lac_bif_diagram]])\n",
    "    both.show(figsize=11)"
   ]
  },
  {
   "cell_type": "markdown",
   "metadata": {
    "collapsed": false,
    "editable": false,
    "jupyter": {
     "outputs_hidden": false
    }
   },
   "source": [
    "**Question 1.7:**  If we wanted a more continuous graph of our bifurcation diagram, then we just need to use a smaller step size for $r$.  Running the code below will plot the complete bifurcation diagram for this model.  Based on the image it displays, what kind of bifurcation do you see happening in this system?"
   ]
  },
  {
   "cell_type": "code",
   "execution_count": null,
   "metadata": {
    "collapsed": false,
    "editable": false,
    "jupyter": {
     "outputs_hidden": false
    }
   },
   "outputs": [],
   "source": [
    "r, X = var(\"r, X\")\n",
    "p = plot_bifurcation_diagram(0.01 + X^2 / (1 + X^2) - r*X, (r, 0.15, 1), (X, -0.01, 3))\n",
    "p.show(aspect_ratio=\"auto\")"
   ]
  },
  {
   "cell_type": "markdown",
   "metadata": {
    "collapsed": false,
    "editable": false,
    "jupyter": {
     "outputs_hidden": false
    }
   },
   "source": [
    "#### <span style='font-family:Arial'><span style='color:#3f51b5'>**Question 2.1-2.4 (Spruce Budworm Model)**</span></span>\n",
    "\n",
    "\n",
    "\n",
    "Spruce budworms (genus *Choristoneura*) are insects that feed on coniferous trees, such as spruce trees. Their population has a curious behavior: most of the time, the population remains at relatively low, manageable levels. (We will refer to this as the population being in **refuge**.) But sometimes, as a result of particularly good conditions in their environment (i.e., high carrying capacity), there is a sudden and massive growth in the spruce budworm population. (We will refer to this as a population **outbreak**.) The curious part is that, after such an outbreak, even after the environment returns to normal (i.e., after the carrying capacity drops back to its previous level), the spruce budworm population remains high! That is, it remains in outbreak.\n",
    "\n",
    "Scientists have found that what keeps the population in refuge under normal conditions is that they are preyed upon by birds, most notably the Cape May warbler (*Setophaga tigrina*).\n",
    "\n",
    "We will model the spruce budworm population using the following assumptions:\n",
    "\n",
    "- Let $N$ be the spruce budworm population.\n",
    "- In the absence of predation by birds, the population grows logistically, with a natural per-capita growth rate $r$, and a carrying capacity of $k$.\n",
    "- The warbler population remains constant , as they have other food sources.  \n",
    "- The rate of predation by the warblers increases with the budworm population up to a certain level. The warblers can only eat so many worms. We will use the sigmoid function to model this predation: $predation(N) = \\dfrac{N^2}{1+N^2}$.\n",
    "\n",
    "Therefore the resulting differential equation is $$N' = r \\cdot N \\cdot \\left( 1- \\dfrac{N}{k}\\right) - \\dfrac{N^2}{1+N^2}$$  In everything below, we will assume that $r$ is constant and we will only vary $k$.  Specifically, we will assume $r=0.55$.\n",
    "\n",
    "\n",
    "\n",
    "\n",
    "\n",
    "**Question 2.1:**  One equilibrium value is of course $N=0$.  The code below helps us find the remaining equilibrium points where we could use the over-under method to classify them.  Try varying the slider for $k$ to see how the equilibria change.  **There will be a region of values where four equilibria show up.  The question below focuses on this region of values.**\n",
    "\n",
    "Find a value of $k$ that makes the middle unstable equilibrium (red) closer to the smallest stable equilibrium (blue).  Make sure you are using a value of $r=0.55$, and that you have selected the check box to show the equilibria.  Upload a screenshot that shows your name and the Cocalc graph, including the sliders that show your values of $r$ and $k$ that illustrate the above scenario.  Note that there are multiple values of $k$ that would work for this question.\n"
   ]
  },
  {
   "cell_type": "code",
   "execution_count": 4,
   "metadata": {
    "collapsed": false,
    "editable": false,
    "jupyter": {
     "outputs_hidden": false
    }
   },
   "outputs": [
    {
     "data": {
      "application/vnd.jupyter.widget-view+json": {
       "model_id": "13f5ead147ac414085f73ee2100bee54",
       "version_major": 2,
       "version_minor": 0
      },
      "text/plain": [
       "Interactive function <function spruce_budworm_equilibria at 0x7f9e6079c040> with 3 widgets\n",
       "  r: TransformFloat…"
      ]
     },
     "execution_count": 4,
     "metadata": {},
     "output_type": "execute_result"
    }
   ],
   "source": [
    "@interact\n",
    "def spruce_budworm_equilibria(\n",
    "            r=slider(0.3, 0.8, 0.01, label=\"r (growth rate)\", default=0.55), \n",
    "            k=slider(0.1, 15, 0.1, label=\"k (carrying capacity)\", default=3), \n",
    "            show_eqpts=checkbox(default=False, label=\"Show equilibrium points\")):\n",
    "    percap_growthrate(N) = r*(1 - N/k)\n",
    "    percap_predationrate(N) = N/(1 + N^2)\n",
    "    p = plot(percap_growthrate(N), (N, 0, 15), color=\"black\", legend_label=\"Growth rate\")\n",
    "    p += plot(percap_predationrate(N), (N, 0, 15), color=\"orange\", legend_label=\"Predation rate\")\n",
    "    if show_eqpts:\n",
    "        vectorfield(N) = N*(percap_growthrate(N) - percap_predationrate(N))\n",
    "        vf_deriv(N) = diff(vectorfield(N), N)\n",
    "        eqpts = find_zeros_1D(vectorfield, (N, -0.01, 15))\n",
    "        for eqpt in eqpts:\n",
    "            stability = vf_deriv(eqpt)\n",
    "            if stability < 0:\n",
    "                color = \"blue\"\n",
    "            elif stability > 0:\n",
    "                color = \"red\"\n",
    "            else:\n",
    "                color = \"orange\"\n",
    "            p += point((eqpt, 0), color=color, size=50)\n",
    "    p.show(xmax=15, ymin=0, ymax=0.7, aspect_ratio=10, figsize=10,frame=True, \n",
    "           axes_labels=(\"$N$ (Population)\", \"(per capita) growth/\\npredation rates\"))"
   ]
  },
  {
   "cell_type": "markdown",
   "metadata": {
    "collapsed": false,
    "editable": false,
    "jupyter": {
     "outputs_hidden": false
    }
   },
   "source": [
    "**Question 2.2:** As we did in the Lac Operon example, we will construct the bifurcation diagram by drawing vertical phase portraits of our model for specific values of $k$.  Notice that we include $N=0$ as an equilibrium for each value of $k$ that we pick, and the remaining equilibria come from the intersection points on the left graph.   Make sure to run the slider through all the values to build the full bifurcation diagram on the right.  Upload a screenshot showing your name and both graphics, with the bifurcation diagram including all vertical slices possible."
   ]
  },
  {
   "cell_type": "code",
   "execution_count": 2,
   "metadata": {
    "collapsed": false,
    "editable": false,
    "jupyter": {
     "outputs_hidden": false
    }
   },
   "outputs": [
    {
     "data": {
      "application/vnd.jupyter.widget-view+json": {
       "model_id": "07e2eb9b91fb47aa9c4b107068ed1390",
       "version_major": 2,
       "version_minor": 0
      },
      "text/plain": [
       "Interactive function <function sbw_bifurc_diagram at 0x7f9ec8138680> with 1 widget\n",
       "  k: TransformFloatSlider(v…"
      ]
     },
     "execution_count": 2,
     "metadata": {},
     "output_type": "execute_result"
    }
   ],
   "source": [
    "nmin = -0.01\n",
    "nmax = 12\n",
    "sbw_bif_diagram = point(((0, nmin), (14, nmax)), size=0, aspect_ratio=1, axes_labels=(\"k\", \"N\"))\n",
    "\n",
    "@interact\n",
    "def sbw_bifurc_diagram(k=slider(1, 14, 0.5, label=\"k (carrying capacity)\", default=1)):\n",
    "    global sbw_bif_diagram\n",
    "    r = 0.55\n",
    "    percap_growthrate(N) = r*(1 - N/k)\n",
    "    percap_predationrate(N) = N/(1 + N^2)\n",
    "    vectorfield(N) = N*(percap_growthrate(N) - percap_predationrate(N))\n",
    "    vf_deriv(N) = diff(vectorfield(N), N)\n",
    "    p = plot(percap_growthrate(N), (N, nmin, nmax), color=\"black\", legend_label=\"Growth rate\", ymin=0, ymax=0.7, \n",
    "             aspect_ratio=14, axes_labels=(\"N       \", \"(per capita) growth/\\npredation rates\"))\n",
    "    p += plot(percap_predationrate(N), (N, nmin, nmax), color=\"orange\", legend_label=\"Predation rate\")\n",
    "    sbw_bif_diagram += line(((k, nmin), (k, nmax)), color=\"lightgray\", linestyle=\"dashed\", thickness=1)\n",
    "    eqpts = find_zeros_1D(vectorfield, (N, nmin, nmax))\n",
    "    for eqpt in eqpts:\n",
    "        stability = vf_deriv(eqpt)\n",
    "        if stability < 0:\n",
    "            color = \"blue\"\n",
    "        elif stability > 0:\n",
    "            color = \"red\"\n",
    "        else:\n",
    "            color = \"orange\"\n",
    "        p += point((eqpt, 0), color=color, size=50)\n",
    "        sbw_bif_diagram += point((k, eqpt), color=color, size=50)\n",
    "    both = graphics_array([[p, sbw_bif_diagram]])\n",
    "    both.show(figsize=11)"
   ]
  },
  {
   "cell_type": "markdown",
   "metadata": {
    "collapsed": false,
    "editable": false,
    "jupyter": {
     "outputs_hidden": false
    }
   },
   "source": [
    "**Question 2.3:**  Run the code below to plot the continuous bifurcation diagram for this model.  How many bifurcations occur in this model?  What type of bifurcations are they?  Note that $k>0$, so $k=0$ is not a bifurcation point.  "
   ]
  },
  {
   "cell_type": "code",
   "execution_count": null,
   "metadata": {
    "collapsed": false,
    "editable": false,
    "jupyter": {
     "outputs_hidden": false
    }
   },
   "outputs": [],
   "source": [
    "r = 0.55\n",
    "k, N = var(\"k, N\")\n",
    "p = plot_bifurcation_diagram(r*N*(1 - N/k) - N^2 / (1 + N^2), (k, 0, 14), (N, -0.1, 12), plot_points=200)\n",
    "p.show(xmin=0, aspect_ratio=1)"
   ]
  },
  {
   "cell_type": "markdown",
   "metadata": {
    "collapsed": false,
    "editable": false,
    "jupyter": {
     "outputs_hidden": false
    }
   },
   "source": [
    "**Question 2.4:**  Based on this diagram, when $k=9$, how many equilibria are there?"
   ]
  },
  {
   "cell_type": "code",
   "execution_count": null,
   "metadata": {
    "collapsed": false,
    "jupyter": {
     "outputs_hidden": false
    }
   },
   "outputs": [],
   "source": []
  },
  {
   "cell_type": "markdown",
   "metadata": {
    "collapsed": false,
    "editable": false,
    "jupyter": {
     "outputs_hidden": false
    }
   },
   "source": [
    "#### <span style='color:#3f51b5'>Questions 3\\-4: Review & Reflection \\(see Gradescope\\)</span>\n",
    "\n"
   ]
  }
 ],
 "metadata": {
  "kernelspec": {
   "display_name": "SageMath 10.6",
   "language": "sage",
   "name": "sagemath"
  },
  "language_info": {
   "codemirror_mode": {
    "name": "ipython",
    "version": 3
   },
   "file_extension": ".py",
   "mimetype": "text/x-python",
   "name": "python",
   "nbconvert_exporter": "python",
   "pygments_lexer": "ipython3",
   "version": "3.12.5"
  }
 },
 "nbformat": 4,
 "nbformat_minor": 4
}

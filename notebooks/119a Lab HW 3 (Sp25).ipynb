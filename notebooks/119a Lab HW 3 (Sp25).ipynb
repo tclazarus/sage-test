{
 "cells": [
  {
   "cell_type": "markdown",
   "id": "332476",
   "metadata": {
    "collapsed": false,
    "editable": false
   },
   "source": [
    "## <span style='color:#e91e63'>LAB 3 \\(Due Wed, Feb 12 by 11:59pm\\). </span>\n",
    "\n",
    "<span style='color:#e91e63'>For each exercise, answer in the cell below each exercise. Make sure to transfer your answers to Gradescope for your final submission! Please note that some exercises require code while some just require an English answer to a code\\-related question. If so, begin the cell with \\#.</span>\n",
    "\n",
    "<span style='color:#e91e63'>Submitting: You can keep scratch work in this notebook, but you will submit all your final responses on the assignment linked from D2L, which routes you to Gradescope for your submission.</span>\n"
   ]
  },
  {
   "cell_type": "markdown",
   "id": "08aff4",
   "metadata": {
    "collapsed": false,
    "editable": false
   },
   "source": [
    "#### <span style='color:#3f51b5'>Question 0 \\(Coding terminology\\)</span>\n",
    "\n",
    "Practice executing code. Comments will begin with a pound sign \\(AKA hash tag\\).  Comments will be ignored for the computation.\n",
    "\n",
    "**Question 0.1** As we've seen before, coding requires very particular syntax and language.  In this lab we will be using both points and vectors in a system's state space.  State points represent values of our state variables at a given time and the vector anchored at a point will represent the flow variables based on that state.  Therefore a point and a vector give different information \\(and have different units!\\) for the system we are modeling.  We need to be careful in understanding when we are working with points and when we are working with vectors.\n",
    "\n"
   ]
  },
  {
   "cell_type": "code",
   "execution_count": 0,
   "id": "926035",
   "metadata": {
    "collapsed": false
   },
   "outputs": [
   ],
   "source": [
    "# Question 0.1\n",
    "# The two variable function accepts the coordinates of a point (x,y) and outputs a change vector (x', y'). \n",
    "\n",
    "f(x,y) = [2*x^2, -y + 1] # A model is defined for you--the first component is a model for X' and the second component is a model for Y'.  Replace the asterisks to evaluate the change vector at the origin. \n",
    "f(***,***)"
   ]
  },
  {
   "cell_type": "markdown",
   "id": "8684f2",
   "metadata": {
    "collapsed": false,
    "editable": false
   },
   "source": [
    "**Question 0.2** When we plot things, sometimes the graphs come out too big or too small.  We can specify exactly what size of an output we want using the optional plot command $\\tt{figsize=\\#}$, where we need to specify an explicit value for the size.  The default size a figure usually displays with is size 6. Run the code as is first. Then try changing the figure size to be larger so that it is easier to see.\n"
   ]
  },
  {
   "cell_type": "code",
   "execution_count": 0,
   "id": "58c3f6",
   "metadata": {
    "collapsed": false
   },
   "outputs": [
   ],
   "source": [
    "##Exercise 0, Part 2:\n",
    "f(x)= x^2+x+1\n",
    "plot(f,(x,-2,4), axes_labels=[\"x\",\"f(x)\"], figsize=2) # Follow instructions above to change something in this line"
   ]
  },
  {
   "cell_type": "markdown",
   "id": "0edfb2",
   "metadata": {
    "collapsed": false,
    "editable": false
   },
   "source": [
    "**Question 0.3** In CoCalc, a \"list\" is a comma\\-separated collection of items enclosed in hard brackets.  \\[2, 4, 6, 8\\] is a list of numbers.  We can also name lists \\(list = \\[2, 4, 6, 8\\]\\) to call the list later.  We would say that 2 is the first component of the list.   CoCalc refers to items in a list with an index in the order of 0, 1, 2, ...  So the \"zeroth\" item of the list above is the value 2.  We would also say that 2 is the first component of the list.  \n",
    "\n",
    "The code below defines a list.  Once a list is defined, we can use the command<span style='font-family:Courier New'> </span><span style='font-family:Courier New'>_listname\\[index\\]_ </span><span style='font-family:Arial'>to call the correct list item. See instructions below.</span>\n"
   ]
  },
  {
   "cell_type": "code",
   "execution_count": 1,
   "id": "ef3ccc",
   "metadata": {
    "collapsed": false
   },
   "outputs": [
    {
     "data": {
      "text/plain": [
       "'middle'"
      ]
     },
     "execution_count": 1,
     "metadata": {
     },
     "output_type": "execute_result"
    }
   ],
   "source": [
    "LIST = [2,4, 'middle', 6,8]\n",
    "LIST[2]  # Replace the *** with the correct index number to \"call\" the list item 'middle'"
   ]
  },
  {
   "cell_type": "markdown",
   "id": "3a1b92",
   "metadata": {
    "collapsed": false,
    "editable": false
   },
   "source": [
    "#### <span style='color:#3f51b5'><span style='font-family:Arial'>**Questions 1.1\\-2 \\(Multivariable Functions\\)**</span></span>\n",
    "\n",
    "We have already done some plotting of functions with one input \\(you made a linear function yourself in the last lab\\).  Now we want to define functions who  can take an input that is a point \\(ordered pair or ordered triple\\) and return a change vector as the output.  This will helps us plot vector fields.  Here are a couple examples of multi\\-variable functions.\n",
    "\n",
    "$\\tt{f(x,y) = 5*x*y^2 } \\hspace{.1in}$ \\# function name is _**f,**_ input is an ordered pair, output is a single number \n",
    "\n",
    "$\\tt{g(x,y,z) = [x*y, -x, 1]} \\hspace{.1in}$ \\# function name is _**g**_, input is an ordered triple, output is a change vector.  Each component of the output represents change in a particular state variable.  We can use a hard bracket $[ \\, \\, ]$ or parenthesis $( \\, )$ in our function to represent the output vector.\n"
   ]
  },
  {
   "cell_type": "markdown",
   "id": "732e95",
   "metadata": {
    "collapsed": false,
    "editable": false
   },
   "source": [
    "**Question 1.1:** Use the instructions below to write multi\\-step code that will compute the value of the function at a point.  Name the function <u>**single**</u> and define the function so that its input is an ordered pair.  The function should add the two input values and then subtract the number of letters in your first name. \n",
    "\n",
    "The last line of code will ask you to test the function using the point $(2, 3)$. \n",
    "\n"
   ]
  },
  {
   "cell_type": "code",
   "execution_count": 0,
   "id": "27ee52",
   "metadata": {
    "collapsed": false
   },
   "outputs": [
   ],
   "source": [
    "# ***CODE FOR QUESTION 1.1***\n",
    "\n",
    "*** # <--- Replace the asterisks to define the function\n",
    "*** # <--- Replace the asterisks to evaluate the previously-defined function at (2,3)"
   ]
  },
  {
   "cell_type": "markdown",
   "id": "90f3b5",
   "metadata": {
    "collapsed": false,
    "editable": false
   },
   "source": [
    "**Question 1.2:** Write a function named <u>**double**</u> that takes an ordered pair of two variables and then does two things:\n",
    "\n",
    "- The first component only doubles the first variable.\n",
    "- The second component multiplies the two variables together.\n",
    "\n",
    "_Hint: How do we represent multiplication in CoCalc?_\n",
    "\n",
    "Your function should have an output that is a list of two numbers. \n",
    "\n",
    "Evaluate your \"double\" function at the input values (2,3).\n",
    "\n"
   ]
  },
  {
   "cell_type": "code",
   "execution_count": 0,
   "id": "e4bba5",
   "metadata": {
    "collapsed": false
   },
   "outputs": [
   ],
   "source": [
    "# ***CODE FOR QUESTION 1.2***\n",
    "\n",
    "*** # <--- Replace the asterisks to define the function\n",
    "*** # <--- Replace the asterisks to evaluate the previously-defined function at (2,3)"
   ]
  },
  {
   "cell_type": "markdown",
   "id": "570f82",
   "metadata": {
    "collapsed": false,
    "editable": false
   },
   "source": [
    "#### <span style='font-family:Arial'><span style='color:#3f51b5'>**Questions 2.1\\-2 \\(Change Vectors\\)**</span></span>\n",
    "\n",
    "The change vector at a particular point is really just the values of flow variables (or change equations) evaluated at the point.  Since we have a way to code functions of more than one variable now, we can have Cocalc compute change vectors for us!\n",
    "\n",
    "**Question 2.1:** Suppose that two variables $X$ and $Y$ have the following relationship: \n",
    "\n",
    "- $X$ changes at a rate proportional to its interaction with $Y$.  Use $a$ for the constant of proportionality. \n",
    "- The value of $Y$ increases by the self\\-interaction of $X$ and decreases at a constant rate of 1.3.\n",
    "\n",
    "You will define a vector\\-valued function which accepts $(X,Y)$ as an argument and outputs $(X',Y') $ according to the given description of the relationships between $X$ and $Y$. For examples of how to define a vector valued function, see the code example from Questions 0 and 1. \n"
   ]
  },
  {
   "cell_type": "code",
   "execution_count": 0,
   "id": "eddc65",
   "metadata": {
    "collapsed": false,
    "editable": false
   },
   "outputs": [
   ],
   "source": [
    "# ***CODE FOR QUESTION 2.1***\n",
    "\n",
    "# ---> Out of the two lines below, uncomment the line that defines a constant of proportionality that causes X to increase when X and Y are both negative. \n",
    "# a = 7/5\n",
    "# a = -3/8\n",
    "Xprime(X,Y) = a*X*Y # X' is defined for you\n",
    "Yprime(X,Y) = *** # Replace the *** to define Yprime\n",
    "*** # ---> Replace the asterisks by defining vector-valued function using the code example from Questions 0 and 1.\n",
    "*** # ---> Replace the asterisks to evaluate the change vector to your system at the point (-100, -120)."
   ]
  },
  {
   "cell_type": "markdown",
   "id": "27a180",
   "metadata": {
    "collapsed": false,
    "editable": false
   },
   "source": [
    "**Question 2.2:**  Based on your answer to the previous problem, is $X$ increasing, decreasing, or constant at the given state?   Does your answer match the condition for how you selected your proportionality constant?\n",
    "\n",
    "_See options in Gradescope_\n"
   ]
  },
  {
   "cell_type": "markdown",
   "id": "c81607",
   "metadata": {
    "collapsed": false,
    "editable": false
   },
   "source": [
    "#### <span style='color:#3f51b5'>**Question**</span><span style='font-family:Arial'><span style='color:#3f51b5'> </span></span><span style='font-family:Arial'><span style='color:#3f51b5'>**3 \\(Vector Fields\\)**</span></span>\n",
    "\n",
    "Plotting a vector field in Sage requires us to first define the function before plotting, which usually is the multi\\-variable function that represents our change equations.  The following example plots the vector field for a predator\\-prey model of rabbits and foxes.  \n",
    "\n",
    "The argument of the function $\\tt{plot\\_vector\\_field() }$ will always begin with three things:\n",
    "\n",
    "1. The vector\\-valued function \\(can use the function name alone or use function notation\\),\n",
    "2. Domain restrictions on the first variable \\(first component of vector\\-valued function's input\\), and\n",
    "3. Domain restrictions on the second variable \\(second component of the vector\\-valued function's input\\).\n",
    "\n",
    "Just like our previous plot functions, there are additional plot options you can add \\(like $\\tt{axes\\_labels, color, figsize}$ etc\\).  Change the color of the change vectors and change the figure size so that you can see the details of the vector field better.\n",
    "\n"
   ]
  },
  {
   "cell_type": "code",
   "execution_count": 2,
   "id": "d80842",
   "metadata": {
    "collapsed": false,
    "editable": false
   },
   "outputs": [
    {
     "data": {
      "image/png": "[encoded data removed]",
      "text/plain": [
       "Graphics object consisting of 1 graphics primitive"
      ]
     },
     "execution_count": 2,
     "metadata": {
     },
     "output_type": "execute_result"
    }
   ],
   "source": [
    "# Copy this code and change the color of the vectors and the figure size to more easily see the vector field\n",
    "v0(R,F) = [0.1*R - 0.01*R*F, 0.005*R*F - 0.2*F]\n",
    "plot_vector_field(v0, (R,0,70), (F,0,20), axes_labels=[\"R\", \"F\"])"
   ]
  },
  {
   "cell_type": "code",
   "execution_count": 0,
   "id": "dcb62a",
   "metadata": {
    "collapsed": false
   },
   "outputs": [
   ],
   "source": [
    "# Copy and paste, then modify here"
   ]
  },
  {
   "cell_type": "markdown",
   "id": "9a0f2a",
   "metadata": {
    "collapsed": false,
    "editable": false
   },
   "source": [
    "**Question 3.1:**  In the field below, modify the given code so that you have a Lotka\\-Volterra model.  Assume that the predator \\($X$, measured in hundreds\\) has a successful hunting rate of 20%, that the prey \\($Y$, measured in thousands\\) has a per capita birth rate of 60%, and the predators reproduce as a function of successful hunting with a per capita rate of 0.05.  Assume 10% of the predator population dies each year. \n",
    "\n",
    "Make the viewing window $1<X<4$ and $0<Y<15$, and the vectors green.  Note that we need to define our variables carefully here because Cocalc is case sensitive.  Upload a screenshot of your code to Gradescope so that the code, result, and your name are all clearly shown.\n",
    "\n"
   ]
  },
  {
   "cell_type": "code",
   "execution_count": 0,
   "id": "c57ac4",
   "metadata": {
    "collapsed": false,
    "editable": false
   },
   "outputs": [
   ],
   "source": [
    "# ***CODE FOR QUESTION 3.1***\n",
    "\n",
    "# ---> Replace the asterisks to define the parameters according to the given prompt. \n",
    "m = ***\n",
    "b = ***\n",
    "a = ***\n",
    "d = ***\n",
    "dx(X,Y) = (m*b*X*Y - d*X)*2# Don't change this\n",
    "dy(X,Y) = (a*Y - b*X*Y) # Don't change this\n",
    "vf1(X,Y)=[dx(X,Y), dy(X,Y)]  ## Don't change this.  This line defines a vector-valued function called \"vf1\"\n",
    "plot_vector_field(vf1, (X,-5,5), (Y,-5,5), axes_labels=[\"X\",\"Y\"])  ## Execute this line to plot your vector field "
   ]
  },
  {
   "cell_type": "code",
   "execution_count": 0,
   "id": "aba308",
   "metadata": {
    "collapsed": false
   },
   "outputs": [
   ],
   "source": [
    "# Copy and paste the code above; modify below for your own work. "
   ]
  },
  {
   "cell_type": "markdown",
   "id": "f069c4",
   "metadata": {
    "collapsed": false,
    "editable": false
   },
   "source": [
    "### <span style='color:#3f51b5'>**Questions 4.1\\-3 (Interpreting a predicted trajectory)**</span>\n",
    "\n",
    "Suppose the vector field below represents the flow of water down a stream moving to the right.  We drop three tennis balls into the stream, one black, one blue, and one red.   Run the code given below to see the vector field.  \n"
   ]
  },
  {
   "cell_type": "code",
   "execution_count": 0,
   "id": "f767bd",
   "metadata": {
    "collapsed": false,
    "editable": false
   },
   "outputs": [
   ],
   "source": [
    "# ***CODE FOR QUESTION 4.1-2***\n",
    "var('y')\n",
    "plot2=plot_vector_field((y,(cos(x)-2) * sin(x)), (x,-3*pi,2*pi), (y,-pi,2*pi), color = \"green\")\n",
    "start1=point([-6,2], color =\"red\", size =50)\n",
    "start2=point([-6,5], color =\"blue\", size =50)\n",
    "start3=point([-6,6], color =\"black\", size =50)\n",
    "show(plot2+start1+start2+start3) # Execute the code"
   ]
  },
  {
   "cell_type": "markdown",
   "id": "f0b180",
   "metadata": {
    "collapsed": false,
    "editable": false
   },
   "source": [
    "**Question 4.1:**  Which of the tennis balls will make it to the end of the stream on the right side?  _See options in Gradescope._\n",
    "\n",
    "**Question 4.2:**  Which of the tennis balls will get stuck in a loop and only travel in circles?  _See options in Gradescope._"
   ]
  },
  {
   "cell_type": "markdown",
   "id": "0f4f8e",
   "metadata": {
    "collapsed": false,
    "editable": false
   },
   "source": [
    "**Question 4.3:**  Given the vector field and state point (in purple), interpret the sign of the vertical coordinate of the state point and vertical component of the change vector.\n",
    "\n"
   ]
  },
  {
   "cell_type": "code",
   "execution_count": 0,
   "id": "7f00ff",
   "metadata": {
    "collapsed": false,
    "editable": false
   },
   "outputs": [
   ],
   "source": [
    "# ***CODE FOR QUESTION 4.3***\n",
    "vf4(x,y)=[x,-y]\n",
    "plot4=plot_vector_field(vf4,(x,-3,3), (y,-3,3), color=\"green\", plot_points=15, axes_labels=[\"x\",\"y\"])\n",
    "point4=point([-1.5,-1.5], color =\"purple\", size =70)\n",
    "show(plot4+point4) # Execute the code"
   ]
  },
  {
   "cell_type": "markdown",
   "id": "1f8dc6",
   "metadata": {
    "collapsed": false,
    "editable": false
   },
   "source": [
    "#### <span style='color:#3f51b5'>**Question**</span><span style='color:#3f51b5'><span style='font-family:Arial'> **5.1 \\(Moose\\-Deer Model\\)**</span></span>\n",
    "\n",
    "Moose and Deer often end up grazing in the same places.  This means that they not only compete with others of their own species, but they often end up competing for food between species as well.  In this problem we will represent the number of moose (in thousands) as $M$ and the number of deer (in thousands) as $D$, and $t$ is measured in years.  Run the code below to view the vector field associated with this Moose-Deer system.  \n",
    "\n"
   ]
  },
  {
   "cell_type": "code",
   "execution_count": 0,
   "id": "fd6abe",
   "metadata": {
    "collapsed": false,
    "editable": false
   },
   "outputs": [
   ],
   "source": [
    "# ***CODE FOR QUESTION 5.1***\n",
    "vector_field(M,D)=[(M-M^2-0.3*D*M)/sqrt((M-M^2-0.3*D*M)^2+(D-D^2-1*M*D)^2),(D-D^2-1*M*D)/sqrt((M-M^2-0.3*D*M)^2+(D-D^2-1*M*D)^2)]  ##Note: this vector field is altered so that all vectors have the same length in order to more easily see them.\n",
    "plot5=plot_vector_field(vector_field,(M,0,2),(D,0,3), plot_points=20, color=\"green\", axes_labels=(\"M\",\"D\"), figsize=7) \n",
    "show(plot5) # Execute the code"
   ]
  },
  {
   "cell_type": "markdown",
   "id": "7f735e",
   "metadata": {
    "collapsed": false,
    "editable": false
   },
   "source": [
    "**Question 5.1:** Based on looking at the vector field, explain in words how the populations of each species might change over time if their current state is $(1.5, 2.0)$.  Will either species ever go extinct?\n",
    "\n"
   ]
  },
  {
   "cell_type": "markdown",
   "id": "3bb0b3",
   "metadata": {
    "collapsed": false,
    "editable": false
   },
   "source": [
    "\n",
    "#### <span style='color:#3f51b5'>**Question**</span><span style='color:#3f51b5'><span style='font-family:Arial'> **6.1-6.4:  \\(Intervention in a two\\-variable system\\)**</span></span>\n",
    "\n",
    "An important part of studying a system comes from behavior when we intervene in the natural process. This intevention perturbs the system and potentially causes a change in the current behavior. The provided model simulates a perturbation. Assume time is measured in years.\n",
    "\n",
    "The first cell below shows the natural time series for the two populations.  The second cell shows behavior after a perturbation to the system.\n",
    "\n"
   ]
  },
  {
   "cell_type": "code",
   "execution_count": 0,
   "id": "9323bb",
   "metadata": {
    "collapsed": false,
    "editable": false
   },
   "outputs": [
   ],
   "source": [
    "# ***CODE PART 1/2 FOR QUESTION 6.1, system as normal***\n",
    "from scipy.integrate import odeint\n",
    "import matplotlib.pyplot as plt\n",
    "import numpy as np\n",
    "\n",
    "#set up the change equations (aka differential equations or ODEs) for the model\n",
    "def odes(initial_values, t):\n",
    "  tuna,shark=initial_values\n",
    "  br=0.8\n",
    "  dr=0.2\n",
    "  beta=0.05\n",
    "  tprime= br*tuna-beta*shark*tuna\n",
    "  sprime= beta*shark*tuna - dr*shark\n",
    "  return [tprime, sprime]\n",
    "\n",
    "t=np.linspace(0,100,1000) #this sets up the time values for the simulation\n",
    "init = [16,30] #initial values of tuna and shark as [T,S]\n",
    "sol=odeint(odes,init,t) #simulates the model\n",
    "\n",
    "#plot simulation\n",
    "plt.plot(t,sol[:,0],label=\"tuna as normal\",color=\"red\") #plot the tuna\n",
    "plt.plot(t,sol[:,1],label=\"sharks as normal\",color=\"blue\") #plot the sharks\n",
    "plt.legend(loc='best') #prepare the legend\n",
    "plt.xlabel('Time') #set an x label\n",
    "plt.ylabel('Population') #set a y label\n",
    "plt.show() #show the plot\n"
   ]
  },
  {
   "cell_type": "code",
   "execution_count": 0,
   "id": "718391",
   "metadata": {
    "collapsed": false,
    "editable": false
   },
   "outputs": [
   ],
   "source": [
    "# ***CODE PART 2/2 FOR QUESTION 6.1, system with intervention***\n",
    "from scipy.integrate import odeint\n",
    "import matplotlib.pyplot as plt\n",
    "import numpy as np\n",
    "\n",
    "shark_removal = 30 #how many sharks are removed\n",
    "removal_time = 43 #when the sharks are removed\n",
    "#set up the ODES for the model\n",
    "def odes(initial_values, t):\n",
    "  tuna,shark=initial_values\n",
    "  br=0.8\n",
    "  dr=0.2\n",
    "  beta=0.05\n",
    "  tprime= br*tuna-beta*shark*tuna\n",
    "  sprime= beta*shark*tuna - dr*shark\n",
    "  return [tprime, sprime]\n",
    "\n",
    "\n",
    "\n",
    "t=np.linspace(0,removal_time,1000) #this sets up the time values for the simulation\n",
    "ini = [16,10] #Initial values in the form [T, S]\n",
    "sol2=odeint(odes,ini,t) #simulates the model\n",
    "inib=sol2[-1,:] #pulls the last timepoint from the first simulation\n",
    "inib[1]=inib[1]-shark_removal #does the shark removal\n",
    "sol2b=odeint(odes,inib,t)\n",
    "sol_2b=np.concatenate((sol2,sol2b),axis=0)\n",
    "t2=np.linspace(0,removal_time*2,2000)\n",
    "\n",
    "\n",
    "\n",
    "#plot simulation\n",
    "plt.plot(t2,sol_2b[:,0],label=\"tuna get perturbed\",color=\"red\") #plot the tuna\n",
    "plt.plot(t2,sol_2b[:,1],label=\"sharks get perturbed\",color=\"blue\") #plot the sharks\n",
    "plt.axvline(x=removal_time,color=\"gray\",linestyle=\"--\")\n",
    "plt.legend(loc='best') #prepare the legend\n",
    "plt.xlabel('Time') #set an x label\n",
    "plt.ylabel('Population') #set a y label\n",
    "plt.show() #show the plot"
   ]
  },
  {
   "cell_type": "markdown",
   "id": "9512a9",
   "metadata": {
    "collapsed": false,
    "editable": false
   },
   "source": [
    "**Question 6.1:** When did the perturbation occur? \\(Read the code & comments\\)\n",
    "\n",
    "**Question 6.2:** Based on the immediate jump in population value(s) you observe in the graphical result, what do you think was the goal of the intervention?\n",
    "\n",
    "**Question 6.3:** Which scenario has a greater maximum population of predators? \n",
    "\n",
    "**Question 6.4:** Which system shows a closed loop trajectory in their state space?\n"
   ]
  },
  {
   "cell_type": "markdown",
   "id": "c05849",
   "metadata": {
    "collapsed": false,
    "editable": false
   },
   "source": [
    "#### <span style='color:#3f51b5'>**Questions 7.1\\-4 \\(Euler's method\\)**</span>\n",
    "\n",
    "Assume that there are 300 sea otters in a population and that all per capita rates are annual rates. \n",
    "\n",
    "For Exercises 7.1\\-2, we are asking you to read and interpret the code, you do not need to actually run the code to answer the questions.  You will answer in Gradescope for these parts.\n",
    "\n",
    "**Question 7.1:** The code below provides some initial lines to iterate Euler's method for this population.  The units of time is years. This new study also observes a population of sea otters in an area that can sustain a larger population. Based on the given code below, how frequently are we making observations?  \n",
    "\n",
    "**Question 7.2:** In the provided code, the function Pprime can be rewritten by distributing to write the same model as a sum/difference of terms. One of these terms will explicitly correspond to self\\-interaction in this model Pprime. Based on this rewritten form, does self\\-interaction contribute towards or diminish the population? \n"
   ]
  },
  {
   "cell_type": "code",
   "execution_count": 0,
   "id": "801177",
   "metadata": {
    "collapsed": false,
    "editable": false
   },
   "outputs": [
   ],
   "source": [
    "# ***CODE FOR QUESTIONs 7.1-2***\n",
    "P = randrange(20,80) # Initial value\n",
    "dt = 1/12 # time step\n",
    "r = 3.4\n",
    "k = 100\n",
    "Pprime = r * P * (1 - P/k) # change equation for P'"
   ]
  },
  {
   "cell_type": "markdown",
   "id": "269563",
   "metadata": {
    "collapsed": false,
    "editable": false
   },
   "source": [
    "**Question 7.3:**  The code below models a different study which now takes weekly observations although (time is still measured in years). This new study also observes a population of sea otters in an area that can sustain a larger population. Use the code below to determine our model's predicted population after 1 year \\(note that this would be the 52nd observation\\). Round your answer to two decimal places. \n",
    "\n",
    "**NOTE:** You will need to read the comments in the code and execute the code.  The code will not generate a single column of results; it may look a little messy. The code will randomly generate an initial population for you, so answers may vary.\n",
    "\n",
    "What is the list index for the component that predicts the population after 1 year?  _Hint: Recall what your time step is and how lists number their values from Question 0.3._\n"
   ]
  },
  {
   "cell_type": "code",
   "execution_count": 0,
   "id": "9ae6fb",
   "metadata": {
    "collapsed": false,
    "editable": false
   },
   "outputs": [
   ],
   "source": [
    "# ***CODE FOR QUESTION 7.3***\n",
    "P = randrange(20,80) # Initial value\n",
    "dt = 1/52 # time step\n",
    "r = 3.4\n",
    "k = 500\n",
    "predictions = [P] # starts a list of population data points \n",
    "for time in srange(0, 2, dt): # time goes from 0 to 2 (2 years of observations)\n",
    "    Pprime = r * P * (1 - P/k) # change equation for P'\n",
    "    dP = dt * Pprime # change in population\n",
    "    P = P + dP # updated population observation after 1 time step\n",
    "    predictions.append(P) # adds new population value as a data point to the list \"predictions\"\n",
    "time_end = len(predictions) # assigns a variable to number of observations\n",
    "time = list(srange(time_end))\n",
    "data = list(zip(time, predictions))\n",
    "print(data) # displays the list of data generated by Euler's method in the form (day number, population)"
   ]
  },
  {
   "cell_type": "markdown",
   "id": "4dc009",
   "metadata": {
    "collapsed": false,
    "editable": false
   },
   "source": [
    "**Question 7.4:**  There is an example of Euler's method for a 2D system given to you below.  Read over the code and determine which of the following changes would make the model more accurate. \\(Answer in Gradescope\\)\n",
    "\n"
   ]
  },
  {
   "cell_type": "code",
   "execution_count": 0,
   "id": "4ba535",
   "metadata": {
    "collapsed": false,
    "editable": false
   },
   "outputs": [
   ],
   "source": [
    "# Example of Euler's method in 2D\n",
    "\n",
    "var(\"S\", \"I\")\n",
    "S = 98 # Initial value for S\n",
    "I = 2 # Initial value for I\n",
    "dt = 0.15 # Time step\n",
    "List1 = [ (S, I) ] # Creates a list of observations named \"List1\"\n",
    "for i in srange(10): # Code to run Euler's method for predictions of (S, I)\n",
    "    Sprime = -0.2*I - 0.05*S*I\n",
    "    Iprime = 0.2*I + 0.05*S*I\n",
    "    S = S + Sprime * dt\n",
    "    I = I + Iprime * dt\n",
    "    List1.append((S, I))\n",
    "display('List1', List1) # Displays the list of observations from iterating Euler's method for S and I\n",
    "\n"
   ]
  }
 ],
 "metadata": {
  "kernelspec": {
   "argv": [
    "sage-9.8",
    "--python",
    "-m",
    "sage.repl.ipython_kernel",
    "--matplotlib=inline",
    "-f",
    "{connection_file}"
   ],
   "display_name": "SageMath 9.8",
   "env": {
   },
   "language": "sagemath",
   "metadata": {
    "cocalc": {
     "description": "Open-source mathematical software system",
     "priority": 1,
     "url": "https://www.sagemath.org/"
    }
   },
   "name": "sage-9.8",
   "resource_dir": "/ext/jupyter/kernels/sage-9.8"
  },
  "language_info": {
   "codemirror_mode": {
    "name": "ipython",
    "version": 3
   },
   "file_extension": ".py",
   "mimetype": "text/x-python",
   "name": "python",
   "nbconvert_exporter": "python",
   "pygments_lexer": "ipython3",
   "version": "3.11.1"
  }
 },
 "nbformat": 4,
 "nbformat_minor": 4
}
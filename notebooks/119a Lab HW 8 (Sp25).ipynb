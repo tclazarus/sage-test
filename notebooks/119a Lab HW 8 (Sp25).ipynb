{
 "cells": [
  {
   "cell_type": "markdown",
   "id": "06caf4",
   "metadata": {
    "collapsed": false,
    "editable": false
   },
   "source": [
    "## <span style='color:#e91e63'>LAB 8 \\(Due Wed, March 26 by 11:59pm\\). </span>\n",
    "\n",
    "<span style='color:#e91e63'>For each exercise, answer in the cell below each exercise. Make sure to transfer your answers to Gradescope for your final submission! Please note that some exercises require code while some just require an English answer to a code\\-related question. If so, begin the cell with \\#.</span>\n",
    "\n",
    "<span style='color:#e91e63'><u>Submitting:</u></span><span style='color:#e91e63'> You can keep scratch work in this notebook, but you will submit all your final responses on the assignment linked from D2L, which routes you to Gradescope for your submission. </span>\n",
    "\n"
   ]
  },
  {
   "cell_type": "markdown",
   "id": "605ac5",
   "metadata": {
    "collapsed": false,
    "editable": false
   },
   "source": [
    "#### <span style='color:#3f51b5'>**Exercise 0 \\(Using the** </span><span style='color:#3f51b5'><span style='font-family:Courier'>**solve\\(\\)**</span></span><span style='color:#3f51b5'> **command\\)**</span>\n",
    "\n",
    "In the exercises below, you will use the<span style='font-family:Courier'> solve\\(\\)</span> command to find particular solutions for an equation.  If you only write in the argument the name of the function (and the variable), then $\\tt{solve(f(x),x)}$ would produce the zeros of the function \\(values of x that make the output zero\\).  Otherwise, you need a double == sign to solve for different output values.  Run the code below for an example. \n",
    "\n"
   ]
  },
  {
   "cell_type": "code",
   "execution_count": 0,
   "id": "61a078",
   "metadata": {
    "collapsed": false
   },
   "outputs": [
   ],
   "source": [
    "f(x) = x^2 - 5*x + 1.\n",
    "g(x) = pi*x^2 - 1\n",
    "List1 = solve(f(x) == 1, x)\n",
    "List2 = solve(f(x), x)\n",
    "List3 = solve(g(x), x)\n",
    "List4 = solve(f(x) == g(x), x)\n",
    "print(***) #Call the solution set that gives you the zeros of f(x)"
   ]
  },
  {
   "cell_type": "markdown",
   "id": "87aecf",
   "metadata": {
    "collapsed": false,
    "editable": false
   },
   "source": [
    "#### <span style='color:#3f51b5'><span style='font-family:Arial'>**Question 1.1\\-4 \\(Solve command for a particular output value\\)**</span></span>\n",
    "\n",
    "In the past couple of sections, we've covered how to solve differential equations and how to solve for equilibrium values.\n",
    "\n",
    "<u>Solving differential equations:</u> We want to find a **time series solution** that has a derivative given by our change equation.  Our solutions are equations that represent a time series for our state variable as time goes on.\n",
    "\n",
    "<u>Solving for equilibrium points:</u> We want to solve for **values** of our state variable that make our change equation equal to zero.  Our solutions are values of our state variable. In general, this is asking you to find input values that give a particular output value \\(rate of change\\). \n",
    "\n",
    "We will need different commands to emphasize whether we are solving a differential equation versus solving an equation \\(finding input value\\(s\\) based on a specified output value\\). The parts below will walk you through the commands used to do either procedure. \n",
    "\n",
    "**Question 1.1:** As seen in Exercise 0, you can solve for a particular value for any equation.  In the <span style='font-family:Courier'>solve\\(\\)</span> command, the argument is a comma\\-separated list with several components.  Exercise 0 has several examples, but here is the explicit explanation for using the <span style='font-family:Courier'>solve\\(\\)</span> command.\n",
    "\n",
    "- The first component of the argument is an equation you want to solve.  If you want to solve for zeros, then you can write the function alone as shown in <span style='font-family:Courier'>List2</span> or <span style='font-family:Courier'>List3</span> in Exercise 0.\n",
    "  If you want to solve for a particular output value or for two functions being equal, you must use a double equals sign as shown in <span style='font-family:Courier'>List1</span> or <span style='font-family:Courier'>List4</span> in Exercise 0.\n",
    "- The second component of the argument is the variable you want to solve for.\n",
    "\n",
    "Use the given information to solve for two different types of solutions: zeros \\(find domain values when output is zero\\), and solution\\(s\\) when the output is your birthday month.  You will upload a screenshot on Gradescope that shows your name, code, and output cell. \n",
    "\n"
   ]
  },
  {
   "cell_type": "code",
   "execution_count": 0,
   "id": "ca43a1",
   "metadata": {
    "collapsed": false,
    "editable": false
   },
   "outputs": [
   ],
   "source": [
    "# CODE FOR QUESTION 1.1\n",
    "\n",
    "a = 0.12\n",
    "b = 6.78\n",
    "c = 1\n",
    "BirthdayMonth = *** #Enter your birthday month here\n",
    "f1(x) = a*x^2 + b*x - c\n",
    "Zeros = solve(***, ***) #Replace any *** so that this command solves for the zeros of f1(x) here.\n",
    "Birthday = solve(***, ***) #Replace any *** so that this command solves for the solutions of f1(x) equaling your birthday month. \n",
    "print('The zeros of f1(x) are', Zeros)\n",
    "print('f1(x) has an output equal to my birthday month for these input values:', Birthday)"
   ]
  },
  {
   "cell_type": "code",
   "execution_count": 0,
   "id": "76b0e9",
   "metadata": {
    "collapsed": false
   },
   "outputs": [
   ],
   "source": [
    "#copy and paste, then modify here"
   ]
  },
  {
   "cell_type": "markdown",
   "id": "be7f10",
   "metadata": {
    "collapsed": false,
    "editable": false
   },
   "source": [
    "**Question 1.2:** The second component of the argument of <span style='font-family:Courier'>solve\\(\\)</span> is important when we have equations with general parameters.  Use the given template to solve for each parameter that would make AlleeEffect(X) to equal to 0.  You will enter two lines of commands, and the final command will print the results together.\n",
    "\n",
    "You will upload a screenshot on Gradescope that shows your name, code, and output cell.\n"
   ]
  },
  {
   "cell_type": "code",
   "execution_count": 0,
   "id": "2785f7",
   "metadata": {
    "collapsed": false,
    "editable": false
   },
   "outputs": [
   ],
   "source": [
    "# CODE FOR QUESTION 1.2\n",
    "\n",
    "var('X','r','k','a')\n",
    "AlleeEffect(X) = r * X * (1 - X/k) * (X/a - 1)\n",
    "rSolns = solve(AlleeEffect(X), r)\n",
    "kSolns = *** # Write a command to solve for values of k that make AlleeEffect(x) equal to zero\n",
    "aSolns = *** # Write a command to solve for values of a that make AlleeEffect(x) equal to zero\n",
    "display(\"The equation is equal to zero for these parameter values:\", rSolns + kSolns + aSolns)"
   ]
  },
  {
   "cell_type": "code",
   "execution_count": 0,
   "id": "fc4e84",
   "metadata": {
    "collapsed": false
   },
   "outputs": [
   ],
   "source": [
    "#copy and paste, then modify here"
   ]
  },
  {
   "cell_type": "markdown",
   "id": "8a2d2d",
   "metadata": {
    "collapsed": false,
    "editable": false
   },
   "source": [
    "**Question 1.3:** We can also solve a system of equations simultaneously.  We do so by listing the functions separated by commas and in hard brackets in the argument of the command.   Since this example has two change functions and two variables, the result will be ordered pairs (each pair is given in hard brackets).\n",
    "\n",
    "Run the code below and interpret the results.\n",
    "\n",
    "What are the equilibrium points based on the given results?  Select all that apply. \\(Answer in Gradescope\\)\n"
   ]
  },
  {
   "cell_type": "code",
   "execution_count": 0,
   "id": "c1bab7",
   "metadata": {
    "collapsed": false,
    "editable": false
   },
   "outputs": [
   ],
   "source": [
    "# CODE FOR QUESTION 1.3\n",
    "\n",
    "var('y')\n",
    "dx(x,y) = x^2 + y^2 - 1\n",
    "dy(x,y) = x -y\n",
    "solve([dx(x,y), dy(x,y)], x, y)"
   ]
  },
  {
   "cell_type": "markdown",
   "id": "e0d84b",
   "metadata": {
    "collapsed": false,
    "editable": false
   },
   "source": [
    "#### <span style='font-family:Arial'><span style='color:#3f51b5'>**Question 2 \\(Solve command for solutions to a differential equation\\)**</span></span>\n",
    "\n",
    "In general, it is very difficult to solve differential equations.  A computer uses numerical methods to approximate a solution, which we can plot.  This iterative method \"predicts\" the next point using the previous information for every step, similar to the ideas we've used in Euler's method.  \n",
    "\n",
    "In the example below, assume that $X$ represents the square footage of Goat's head \\(a common weed in Arizona\\) covering your yard, with time measured in weeks after today.  In this sense, the carrying capacity corresponds to the size of your yard, which is 70ft by 10 ft. \n",
    "\n",
    "We will be using a command to determine the solution for a differential equation \\(a model for the state variable, where the model's derivative is the differential equation we want\\). We will use the `desolve_odeint()` command. \n",
    "\n",
    "There are 4 main arguments for this command, in the form `desolve_odeint(des, ics, times, dvars)`.\n",
    "\n",
    "- `des` is the list of the right\\-hand sides of the equations you are simulating \\(the formula part\\),\n",
    "- `ics` is a list of initial values of the state variables,\n",
    "- `times` is a list of time points for which you want solutions, and\n",
    "- `dvars` is a list of state variables.\n",
    "\n",
    "**Question 2.1:** The code below is set up to simulate the logistic equation \n",
    "\n",
    "$X' = rX(1 - \\frac{X}{K})$ .\n",
    "\n",
    "Fill the code so that the carrying capacity corresponds to the area of your yard that is 70 ft by 10 ft, a per capita growth rate of 0.13, and a time step of 1 \\(i.e. $\\Delta t = 1$\\).  There are some placeholder asterisks so you know where to replace values. \n",
    "\n",
    "You will upload a screenshot on Gradescope shows your name, code, and output cell.\n",
    "\n"
   ]
  },
  {
   "cell_type": "code",
   "execution_count": 0,
   "id": "0f73fb",
   "metadata": {
    "collapsed": false,
    "editable": false
   },
   "outputs": [
   ],
   "source": [
    "# CODE FOR QUESTION 2.1\n",
    "\n",
    "var('X')\n",
    "r = *** # Defining parameter value of r for logistic model\n",
    "K = *** # Defining parameter value of K for logistic model\n",
    "t = srange(0, 100, ***)  # Defining time to start at t = 0, end at t = 100, with time step last in the argument\n",
    "Xprime = r * X * ( 1 - X / K) # logistic model\n",
    "LogisticModel = desolve_odeint(Xprime, ics = 500, times = t, dvars = X)  # numerically computes the solution N so that N' is the logistic model we want\n",
    "list_plot(list(zip(t, LogisticModel)), axes_labels = ['t', 'X'], color = 'dodgerblue')"
   ]
  },
  {
   "cell_type": "code",
   "execution_count": 0,
   "id": "1010f8",
   "metadata": {
    "collapsed": false
   },
   "outputs": [
   ],
   "source": [
    "#copy and paste, then modify here"
   ]
  },
  {
   "cell_type": "markdown",
   "id": "78335b",
   "metadata": {
    "collapsed": false,
    "editable": false
   },
   "source": [
    "**Question 2.2:** Select the correct interpretation for the point $(0, 500)$ in the output graph from the previous part.\n"
   ]
  },
  {
   "cell_type": "markdown",
   "id": "6d5a6b",
   "metadata": {
    "collapsed": false,
    "editable": false
   },
   "source": [
    "#### <span style='color:#3f51b5'>**Question**</span><span style='color:#3f51b5'> 3: Solving two\\-variable systems \\(Working with sharks & tuna again, because they missed you\\)</span>\n",
    "\n",
    "In our work above, the solutions to single\\-variable systems were time series for the state variables.  When we work with two\\-variable systems, we can look at solutions as two separate time series \\(one for each state variable\\), or we can look at the trajectory of the two variables in state space.  You'll do both in your work below. \n",
    "\n",
    "Below is the code that shows the time series **solutions** $S(t), T(t)$ for a predator\\-prey system of differential equations that we know and love.\n",
    "\n",
    "$S' = m\\beta ST - dS$ \n",
    "\n",
    "$T' = aT -\n",
    "\\beta ST$ \n",
    "\n",
    "Note: the solutions that are plotted are on the same graph and same scale.  Time is measured in days.\n"
   ]
  },
  {
   "cell_type": "code",
   "execution_count": 0,
   "id": "872741",
   "metadata": {
    "collapsed": false,
    "editable": false
   },
   "outputs": [
   ],
   "source": [
    "# CODE FOR QUESTION 3\n",
    "\n",
    "var(\"S\",\"T\")\n",
    "m = 0.3\n",
    "beta = 0.01\n",
    "t = srange(0, 100, 0.1)\n",
    "\n",
    "# Defining the change equations\n",
    "Tprime = 0.5*T - beta*S*T\n",
    "Sprime = m * beta * S * T - 0.2*S\n",
    "vec(S, T) = [Sprime,Tprime]\n",
    "\n",
    "# Solving the system of change equations for S(t) and T(t) for an initial value of (S, T) = (75, 50).\n",
    "STmodel = desolve_odeint([Sprime, Tprime], ics = [75,50], dvars = [S, T], times = t) \n",
    "\n",
    "# This is a list of data points for sharks over time.\n",
    "ts1 = list(zip(t, STmodel[:,0]))\n",
    "\n",
    "# This is a list of data points for tuna over time.\n",
    "ts2 = list(zip(t, STmodel[:,1]))\n",
    "\n",
    "\n",
    "plotmax = max(STmodel[:,1]+STmodel[:,0])\n",
    "\n",
    "# This plots the sharks in green and the tuna in pink (magenta) based on the data list names above.  The plot is followed by the change vector at the initial value we use. \n",
    "par1 = list_plot(ts1, color = \"limegreen\", ymin = 0, ymax = plotmax) + list_plot(ts2, ymax = plotmax, color = \"magenta\")\n",
    "show(par1)\n",
    "print('The change vector at the initial value is', vec(75,50),'.')"
   ]
  },
  {
   "cell_type": "markdown",
   "id": "55caf2",
   "metadata": {
    "collapsed": false,
    "editable": false
   },
   "source": [
    "#### <span style='color:#3f51b5'>**Questions 3.1\\-3:** </span>\n",
    "\n",
    "Use the information above to interpret the given system. Be careful to read all instructions \\(including code comments\\). \n",
    "\n",
    "**Question 3.1:** Based on the provided code & plot , which graph represents sharks and which represents tuna? \n",
    "\n",
    "**Question 3.2:** Based on the provided change equations in the code, what is the per capita death rate of sharks? Give your answer as a percentage.\n",
    "\n",
    "**Question 3.3:** Interpret the results of the code.  See options in Gradescope. \n"
   ]
  },
  {
   "cell_type": "markdown",
   "id": "1c7331",
   "metadata": {
    "collapsed": false,
    "editable": false
   },
   "source": [
    "#### <span style='color:#3f51b5'>**Question 4: Changing parameters in 2\\-variable systems**</span>\n",
    "\n",
    "Because our initial value is a parameter in our system, we may get different solutions based on our initial observation.  The code below simulates two different solutions for the same system, but with different initial values. The tuna populations are plotted in green, and the shark populations are plotted in red/pink.\n"
   ]
  },
  {
   "cell_type": "code",
   "execution_count": 0,
   "id": "a3de60",
   "metadata": {
    "collapsed": false,
    "editable": false
   },
   "outputs": [
   ],
   "source": [
    "# CODE FOR QUESTION 4\n",
    "\n",
    "# Define our preliminary information (variables, parameters, change equations)\n",
    "var(\"S\",\"T\")\n",
    "m = 0.8\n",
    "beta = 0.01\n",
    "t = srange(0, 100, 0.1)\n",
    "Tprime = 0.5*T - beta*S*T\n",
    "Sprime = m * beta * S * T - 0.2*S\n",
    "\n",
    "# Simulation 1\n",
    "STmodel1 = desolve_odeint([Sprime, Tprime], ics = [25,25], dvars = [S, T], times = t)  # Initial value is 25 sharks and 25 tuna\n",
    "ts1 = list(zip(t, STmodel1[:,0]))\n",
    "ts2 = list(zip(t, STmodel1[:,1]))\n",
    "#show(inital1)\n",
    "\n",
    "# Simulation 2\n",
    "STmodel2 = desolve_odeint([Sprime, Tprime], ics = [10,50], dvars = [S, T], times = t) # Initial value is 10 sharks and 50 tuna\n",
    "ts1a = list(zip(t, STmodel2[:,0]))\n",
    "ts2a = list(zip(t, STmodel2[:,1]))\n",
    "\n",
    "# Display the two different scenarios side by side\n",
    "maxpop = max(STmodel1[:,0] + STmodel1[:,1] + STmodel2[:,0] + STmodel1[:,1])-150\n",
    "initial1 = list_plot(ts1, color = \"limegreen\", ymin = 0, ymax = maxpop) + list_plot(ts2, color = \"magenta\", figsize = 4)\n",
    "initial2 = list_plot(ts1a, color = \"darkgreen\", ymin = 0, ymax = maxpop) + list_plot(ts2a, color = \"red\", figsize = 4)\n",
    "show(initial1), show (initial2)"
   ]
  },
  {
   "cell_type": "markdown",
   "id": "c8bb55",
   "metadata": {
    "collapsed": false,
    "editable": false
   },
   "source": [
    "#### <span style='color:#3f51b5'>**Questions 4.1\\-2:**</span>\n",
    "\n",
    "**Question 4.1:** What do you notice about the behavior of the system when sharks and tuna start out at different values? Explain your observations in context of the populations changing over time, not just graphical features. \n",
    "\n",
    "**Question 4.2:** Based on the system and your real world intuition, are there any constraints on the type of initial values we can use?  What real world factors might you want to consider in picking initial values? \\(This is a purely hypothetical question, but you're welcome to look anything up about sharks & tuna in real life.  Cite your sources if you're using specific facts or examples.\\) \n",
    "\n"
   ]
  },
  {
   "cell_type": "markdown",
   "id": "d7e9d3",
   "metadata": {
    "collapsed": false,
    "editable": false
   },
   "source": [
    "#### <span style='color:#3f51b5'>**Question 5: Changing only 1 initial value**</span>\n",
    "\n",
    "The code below will display the same type of system we've been using with a slider to change the intial value of one variable.  The solutions \\(time series for both populations\\) are displayed below and will updated as you change the initial value of tuna alone.\n"
   ]
  },
  {
   "cell_type": "code",
   "execution_count": 0,
   "id": "6ee087",
   "metadata": {
    "collapsed": false,
    "editable": false
   },
   "outputs": [
   ],
   "source": [
    "# CODE FOR QUESTION 5\n",
    "\n",
    "# Define our preliminary information (variables, parameters, change equations)\n",
    "var(\"S\",\"T\")\n",
    "m = 0.8\n",
    "beta = 0.01\n",
    "t = srange(0, 100, 0.01)\n",
    "Tprime = 0.5*T - beta*S*T\n",
    "Sprime = m * beta * S * T - 0.2*S\n",
    "\n",
    "# Define an interactive slider to plot solutions for our system using an intial value of 25 sharks and different initial values of tuna. \n",
    "@interact\n",
    "def change(n=(25,300)):\n",
    "    STmodel3 = desolve_odeint([Sprime, Tprime], ics = [25,n], dvars = [S, T], times = t)\n",
    "    ts3a = list(zip(t, STmodel3[:,0]))\n",
    "    ts3b = list(zip(t, STmodel3[:,1]))\n",
    "    sim3 = list_plot(ts3a, color = \"darkorange\", ymin = 0, ymax = 350) + list_plot(ts3b, color = \"purple\", figsize = 6)\n",
    "    sim3.show(title='Change Initial Value for Tuna')"
   ]
  },
  {
   "cell_type": "markdown",
   "id": "c5d8fb",
   "metadata": {
    "collapsed": false,
    "editable": false
   },
   "source": [
    "#### <span style='color:#3f51b5'>**Questions 5.1\\-3**</span>\n",
    "\n",
    "**Question 5.1:**  When working with systems that oscillate like this, it's common for our time series solution to be wave functions \\(called sine and cosine\\), because these functions are periodic in nature. In this context, periodic means a repeating pattern.  There are different characteristics of periodic behavior, including the length of time it takes to repeat the pattern.  Using different values on the slider, determine which initial values of tuna correspond to a longer period of time to return to the same state \\(same values\\).\n",
    "\n",
    "**Question 5.2:** What are similarities you see in the system regardless of the initial value? See options in Gradescope. \n",
    "\n",
    "**Question 5.3:** Using different values on the slider, determine which initial values of tuna cause a larger amplification of extreme values \\(maximum and minimum values\\) in the system. What do you observe in the graphs that supports your answer?\n",
    "\n"
   ]
  },
  {
   "cell_type": "markdown",
   "id": "b83d49",
   "metadata": {
    "collapsed": false,
    "editable": false
   },
   "source": [
    "#### <span style='color:#3f51b5'>**Question 6: Viewing solutions of a 2\\-variable system as a trajectory**</span>\n",
    "\n",
    "Rather than having two separate solutions plotted as time series, we can instead look at the associated trajectory for our solutions to a 2\\-variable system of differential equations.  The code below simulates the associated trajectory.  Execute the code to see the time series, and then compare the time series to the plot of the trajectory. \n",
    "\n",
    "\\(This is an important idea that we'll get to in Chapter 4!\\)\n",
    "\n"
   ]
  },
  {
   "cell_type": "code",
   "execution_count": 0,
   "id": "31db96",
   "metadata": {
    "collapsed": false,
    "editable": false
   },
   "outputs": [
   ],
   "source": [
    "# CODE FOR QUESTION 6\n",
    "\n",
    "# Define our preliminary information (variables, parameters, change equations)\n",
    "var(\"S\",\"T\")\n",
    "m = 0.8\n",
    "beta = 0.01\n",
    "t = srange(0, 100, 0.1)\n",
    "Tprime = 0.5*T - beta*S*T\n",
    "Sprime = m * beta * S * T - 0.2*S\n",
    "\n",
    "# Time series for Exercise 3\n",
    "ST = desolve_odeint([Sprime, Tprime], ics = [100,100], dvars = [S, T], times = t)  # Initial value is 100 sharks and 200 tuna\n",
    "Ssol3 = list(zip(t, ST[:,0]))\n",
    "Tsol3 = list(zip(t, ST[:,1]))\n",
    "\n",
    "\n",
    "TimeSeries3 = list_plot(Ssol3, color = \"hotpink\", ymin = 0, ymax = 175, figsize = 4) + list_plot(Tsol3, color = \"royalblue\", figsize = 5, axes_labels = ['t', 'Pop'])\n",
    "Traj = list_plot(list(zip(ST[:,0], ST[:,1])), plotjoined=True, color = \"darkviolet\", thickness = 2)\n",
    "vec = plot_vector_field((Sprime,Tprime), (S, 0, 175), (T, 0, 150), color = \"seagreen\", figsize = 5, axes_labels = ['S', 'T'])\n",
    "show(TimeSeries3), show(vec + Traj)"
   ]
  },
  {
   "cell_type": "markdown",
   "id": "d4548e",
   "metadata": {
    "collapsed": false,
    "editable": false
   },
   "source": [
    "**Question 6.1:** Based on the result above, both graphics show that the system will return to its present state and continue in this pattern. Which one would you use to explain to a friend that the system has periodic \\(repeating\\) behavior?\n",
    "\n",
    "**Question 6.2:** When viewing solutions for 2\\-variable systems, it quickly gets crowded when considering the various solutions possible as we vary a parameter. The graphics below show different solutions by varying the initial value of a predator prey system. Match the time series solutions with their corresponding trajectory.\n",
    "\n"
   ]
  },
  {
   "cell_type": "code",
   "execution_count": 0,
   "id": "9908d7",
   "metadata": {
    "collapsed": false,
    "editable": false
   },
   "outputs": [
   ],
   "source": [
    "# CODE FOR QUESTION 6.2\n",
    "\n",
    "# Define our preliminary information (variables, parameters, change equations)\n",
    "var(\"S\",\"T\")\n",
    "m = 0.8\n",
    "beta = 0.01\n",
    "t = srange(0, 100, 0.1)\n",
    "Tprime = 0.5*T - beta*S*T\n",
    "Sprime = m * beta * S * T - 0.2*S\n",
    "\n",
    "# Time series for Exercise 6 - Model 1 for population with Population 1 with initial values in line below\n",
    "ST1 = desolve_odeint([Sprime, Tprime], ics = [100,100], dvars = [S, T], times = t)  # Initial value is 100 sharks and 200 tuna\n",
    "Ssol3a = list(zip(t, ST1[:,0]))\n",
    "Tsol3a = list(zip(t, ST1[:,1]))\n",
    "timeseries1 = list(zip(ST1[:,0], ST1[:,1]))\n",
    "\n",
    "# Time series for Exercise 6 - Model 2 for population with Population 2 with initial values in line below\n",
    "ST2 = desolve_odeint([Sprime, Tprime], ics = [5,5], dvars = [S, T], times = t)  # Initial value is 5 sharks and 5 tuna\n",
    "Ssol3b = list(zip(t, ST2[:,0]))\n",
    "Tsol3b = list(zip(t, ST2[:,1]))\n",
    "timeseries2 = list(zip(ST2[:,0], ST2[:,1]))\n",
    "\n",
    "# Time series for Exercise 6 - Model 3 for population with Population 3 with initial values in line below\n",
    "ST3 = desolve_odeint([Sprime, Tprime], ics = [30,50], dvars = [S, T], times = t)  # Initial value is 30 sharks and 50 tuna\n",
    "Ssol3c = list(zip(t, ST3[:,0]))\n",
    "Tsol3c = list(zip(t, ST3[:,1]))\n",
    "timeseries3 = list(zip(ST3[:,0], ST3[:,1]))\n",
    "\n",
    "# Plotting the time series for each model\n",
    "TimeSeries3a = list_plot(Ssol3a, color = \"hotpink\", ymin = 0, ymax = 225, figsize = 4) + list_plot(Tsol3a, color = \"royalblue\", figsize = 4, axes_labels = ['t', 'Pop1'])\n",
    "TimeSeries3b = list_plot(Ssol3b, color = \"crimson\", ymin = 0, ymax = 225, figsize = 4) + list_plot(Tsol3b, color = \"darkblue\", figsize = 4, axes_labels = ['t', 'Pop2'])\n",
    "TimeSeries3c = list_plot(Ssol3c, color = \"tomato\", ymin = 0, ymax = 225, figsize = 4) + list_plot(Tsol3c, color = \"steelblue\", figsize = 4, axes_labels = ['t', 'Pop3'])\n",
    "\n",
    "# Plotting the different trajectories on one plot with the vector field\n",
    "Traj1 = list_plot(timeseries1, plotjoined=True, color = \"orchid\", thickness = 2)\n",
    "Traj2 = list_plot(timeseries2, plotjoined=True, color = \"darkviolet\", thickness = 2)\n",
    "Traj3 = list_plot(timeseries3, plotjoined=True, color = \"palevioletred\", thickness = 2)\n",
    "vec = plot_vector_field((Sprime,Tprime), (S, 0, 225), (T, 0,200), color = \"seagreen\", figsize = 5, axes_labels = ['S', 'T'])\n",
    "\n",
    "# Displaying all the results\n",
    "show(TimeSeries3a), show(TimeSeries3b), show(TimeSeries3c) \n",
    "show(vec + Traj1 + Traj2 + Traj3)"
   ]
  },
  {
   "cell_type": "code",
   "execution_count": 0,
   "id": "2aec26",
   "metadata": {
    "collapsed": false
   },
   "outputs": [
   ],
   "source": [
    "\n"
   ]
  }
 ],
 "metadata": {
  "kernelspec": {
   "argv": [
    "sage-9.8",
    "--python",
    "-m",
    "sage.repl.ipython_kernel",
    "--matplotlib=inline",
    "-f",
    "{connection_file}"
   ],
   "display_name": "SageMath 9.8",
   "env": {
   },
   "language": "sagemath",
   "metadata": {
    "cocalc": {
     "description": "Open-source mathematical software system",
     "priority": 1,
     "url": "https://www.sagemath.org/"
    }
   },
   "name": "sage-9.8",
   "resource_dir": "/ext/jupyter/kernels/sage-9.8"
  },
  "language_info": {
   "codemirror_mode": {
    "name": "ipython",
    "version": 3
   },
   "file_extension": ".py",
   "mimetype": "text/x-python",
   "name": "python",
   "nbconvert_exporter": "python",
   "pygments_lexer": "ipython3",
   "version": "3.11.1"
  }
 },
 "nbformat": 4,
 "nbformat_minor": 4
}
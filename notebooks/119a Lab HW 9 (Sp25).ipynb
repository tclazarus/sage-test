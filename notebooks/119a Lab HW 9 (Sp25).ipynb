{
 "cells": [
  {
   "cell_type": "markdown",
   "id": "795db3",
   "metadata": {
    "collapsed": false,
    "deletable": true,
    "editable": false
   },
   "source": [
    "\n",
    "## <span style='color:#e91e63'>LAB 9 \\(Due Wed, April 2 by 11:59pm\\). </span>\n",
    "\n",
    "<span style='color:#e91e63'>For each exercise, answer in the cell below each exercise. Make sure to transfer your answers to Gradescope for your final submission! Please note that some exercises require code while some just require an English answer to a code\\-related question. If so, begin the cell with \\#.</span>\n",
    "\n",
    "<span style='color:#e91e63'><u>Submitting:</u></span><span style='color:#e91e63'> You can keep scratch work in this notebook, but you will submit all your final responses on the assignment linked from D2L, which routes you to Gradescope for your submission. </span>\n"
   ]
  },
  {
   "cell_type": "markdown",
   "id": "fcb2ee",
   "metadata": {
    "collapsed": false,
    "editable": false
   },
   "source": [
    "#### <span style='color:#3f51b5'>Question 0, Part 1 \\(Coding terminology\\)</span>\n",
    "\n",
    "Sometimes differential equations have solutions that are mathematically difficult to determine.  Finding a function with the derivative that we want may not be necessary, so a computer can numerically compute solutions.\n",
    "\n",
    "The code below uses the Gompertz growth model, which is sometimes used to model the growth of tumors.  The growth of cells is simulated using techniques from modelling general population growth.  The given parameters represent the initial size of the tumor \\(initial density of the cells\\), the limiting size of the cell density, and the initial rate of tumor growth.  Cancer cells frequently growth in a similar fashion as real\\-life populations, which tend to have a very fast initial growth rate and then plateau \\(stabilize\\) as the population grows. Based on the initial size of the tumor, we can simulate how large we expect a tumor to grow.  The code below is an example of how to solve for the zeros of the Gompertz growth model.  You do not need to memorize this model, we are just using it as an applied example.\n",
    "\n"
   ]
  },
  {
   "cell_type": "code",
   "execution_count": 0,
   "id": "610958",
   "metadata": {
    "collapsed": false,
    "editable": false
   },
   "outputs": [
   ],
   "source": [
    "#Write a line of code using the solve command for the given function\n",
    "k = 60 # limiting size of tumor\n",
    "a = 70 # growth rate\n",
    "x0 = 10 # initial size of tumor\n",
    "f(x) = k - a*log(x/x0)\n",
    "find_root(f(x), 0, 100000) #find the zeros (or roots) of the change equation with the assumption that the zeros are between 0 and 100000)\n",
    "solve(***)"
   ]
  },
  {
   "cell_type": "code",
   "execution_count": 0,
   "id": "22116c",
   "metadata": {
    "collapsed": false
   },
   "outputs": [
   ],
   "source": [
    "#copy and paste, then edit your code here"
   ]
  },
  {
   "cell_type": "markdown",
   "id": "fb4e02",
   "metadata": {
    "collapsed": false,
    "editable": false
   },
   "source": [
    "#### <span style='color:#3f51b5'>Question 0, Part 2 \\(Plotting vector fields\\)</span>\n",
    "\n",
    "Here is a reminder about plotting vector fields.  Tweak the example below so that $X' = -Y$ and $Y' = X$.  This is a rotational vector field, which circulates around a single point.  Make the vector field orange.\n"
   ]
  },
  {
   "cell_type": "code",
   "execution_count": 0,
   "id": "b1830a",
   "metadata": {
    "collapsed": false,
    "editable": false
   },
   "outputs": [
   ],
   "source": [
    "# EXAMPLE \n",
    "var('X', 'Y')\n",
    "f(X,Y) = 0.1*X*Y + 0.2*Y  # change equation for X' = f(x,y).  You should change this line\n",
    "g(X,Y) = 0.04*X - 0.9*Y # change equation for Y' = g(x,y).  You should change this line\n",
    "vec(X,Y) = [ f(X,Y), g(X,Y)] # defines a vector field for a state point (x,y) with the change vector in the form [X', Y']\n",
    "plot_vector_field(vec(X,Y), (X, -10, 10), (Y, -10,10), color = \"dodgerblue\", axes_labels = [\"X\", \"Y\"]) # uses command plot_vector_field() with an argument that includes the vector field function and bounds on the variables"
   ]
  },
  {
   "cell_type": "code",
   "execution_count": 0,
   "id": "cb0006",
   "metadata": {
    "collapsed": false
   },
   "outputs": [
   ],
   "source": [
    "#copy and paste, then edit your code here"
   ]
  },
  {
   "cell_type": "markdown",
   "id": "28b481",
   "metadata": {
    "collapsed": false,
    "editable": false
   },
   "source": [
    "#### <span style='font-family:Arial'><span style='color:#3f51b5'>**Questions 1.1-1.7 (Stability of the Allee Effect Model)**</span></span>\n",
    "\n",
    "In class we introduced a new model that modifies the logistic model by including a factor that symbolizes the need of a minimum population for a species to remain viable.  The Allee Effect model is given by $$X'=rX\\left(1-\\dfrac{X}{k}\\right)\\left(\\dfrac{X}{a} -1\\right)$$ where $r$ is the per capita growth rate, $k$ is the carrying capacity, and $a$ is the minimum population needed for long-term survival.  In this problem we will use a single model  for all the parts, but analyze the stability of its equilibria in each of the ways presented in class.  \n",
    "\n",
    "The specific model that we will work with has the following conditions:\n",
    "\n",
    "- $X$ is the number of animals at a point in time\n",
    "- the population has an 80% growth rate\n",
    "- the maximum number of animals the environment can support is 100\n",
    "- there must be at least 20 animals alive for the population to survive long-term.\n",
    "\n",
    "**Question 1.1:** The first thing we will do is find the equilibrium points of our model.   Remember from our previous labs that Cocalc has a command that will help us solve equations: $\\tt{solve( \\, )}$.\n",
    "\n",
    "Define your change equation for our particular Allee Effect model below, naming the function \"allee\", with lowercase $x$ as the population variable.  Then have Cocalc solve when the change equation is equal to zero to find the equilibria.  You will upload a screenshot on Gradescope that shows your name, code, and output cell.\n",
    "\n",
    "\n",
    "\n"
   ]
  },
  {
   "cell_type": "code",
   "execution_count": 0,
   "id": "09f4ba",
   "metadata": {
    "collapsed": false,
    "editable": false
   },
   "outputs": [
   ],
   "source": [
    "allee(X)= *** # Write the particular Allee Effect Model for the system described above\n",
    "solve(***)  #fill in the two arguments of the solve command here, using a double equals sign for the equation.  Reminder: You can look back at lab 8 for how to use the solve() command."
   ]
  },
  {
   "cell_type": "code",
   "execution_count": 0,
   "id": "8794e8",
   "metadata": {
    "collapsed": false
   },
   "outputs": [
   ],
   "source": [
    "#copy and paste the code here"
   ]
  },
  {
   "cell_type": "markdown",
   "id": "9456fd",
   "metadata": {
    "collapsed": false,
    "editable": false
   },
   "source": [
    "#### <span style='font-family:Arial'><span style='color:#3f51b5'>**Method of Test Points**</span></span>\n",
    "\n",
    "**Question 1.2:** Now we use the method of test points to classify the equilibrium points.  Below we have defined the change equation, and we can use it to find the change vector at any population value $X$.  Change the list called $\\tt{testpts}$ to have a single test point from each region of our number line. The output of the cell is a list of pairs, with the first coordinate of each pair being the population you chose and the second coordinate being the change vector for that population.   You will upload a screenshot on Gradescope that shows your name, code, and output cell.\n",
    "\n",
    "It may help to draw the number line on a piece of paper to help you identify the regions and select your test points. "
   ]
  },
  {
   "cell_type": "code",
   "execution_count": 0,
   "id": "178167",
   "metadata": {
    "collapsed": false,
    "editable": false
   },
   "outputs": [
   ],
   "source": [
    "allee(X)=0.8*X*(1-(X/100))*((X/20)-1)\n",
    "testpts=[***] #insert a single test point from each region here, separated by commas\n",
    "\n",
    "vectors=[] #You do NOT need to add anything to this line of code\n",
    "pairs=[] #You do NOT need to add anything to this line of code\n",
    "for i in srange(0,len(testpts)):\n",
    "    vector=allee(testpts[i])\n",
    "    vectors.append(vector)\n",
    "    pairs.append((testpts[i],vectors[i]))\n",
    "pairs"
   ]
  },
  {
   "cell_type": "code",
   "execution_count": 0,
   "id": "51c4e0",
   "metadata": {
    "collapsed": false
   },
   "outputs": [
   ],
   "source": [
    "#copy and paste the code here"
   ]
  },
  {
   "cell_type": "markdown",
   "id": "10c105",
   "metadata": {
    "collapsed": false,
    "editable": false
   },
   "source": [
    "#### <span style='font-family:Arial'><span style='color:#3f51b5'>**Table of Signs**</span></span>\n",
    "\n",
    "**Question 1.3:**  Next we use the  Table of Signs method.  This problem will need to be done BY HAND (not in Cocalc).\n",
    "\n",
    "Use the same change equation as before: $X'=0.8X\\left(1-\\dfrac{X}{100}\\right)\\left(\\dfrac{X}{20}-1\\right)$.\n",
    "\n",
    "Find the equilibria and classify their stability $\\underline{\\text{ using the Table of Signs method}}$ from class.  Upload an image of your table to Gradescope  \n",
    "\n",
    "$\\textbf{\\underline{NOTE:}}$ \n",
    "- Your table should have $\\textbf{\\underline{three}}$ columns; one for each of the regions/intervals.\n",
    "- Your table should have $\\textbf{\\underline{four}}$ rows; one for each of the three factors, and one at the bottom for the overall sign.\n",
    "- Clearly state under your table what your conclusions are about the stability of each equilibrium.\n",
    "- Write your first and last name above your table.\n",
    "- You need to make your own table.  You may not submit the same exact picture as another student."
   ]
  },
  {
   "cell_type": "code",
   "execution_count": 0,
   "id": "24ad43",
   "metadata": {
    "collapsed": false
   },
   "outputs": [
   ],
   "source": [
    "#cell for scratch work"
   ]
  },
  {
   "cell_type": "markdown",
   "id": "b800ad",
   "metadata": {
    "collapsed": false,
    "editable": true
   },
   "source": [
    "#### <span style='font-family:Arial'><span style='color:#3f51b5'>**Linear Stability Analysis: Graphical**</span></span>\n",
    "\n",
    "**Question 1.4:**  Now we will do the graphical approach to linear stability analysis.  In this method, we plot the function $X'$ against $X$, then look at the slope of the function at each of the equilibria.  Remember that the equilibria are the $X$ values where $X'=0$, meaning where the graph of the change equation touches the horizontal axis.  \n",
    "- Plot our function $\\tt{allee(X)}$ using the plot command from previous labs.  \n",
    "- Define a domain for $X$ that starts at zero and reaches a little beyond the largest equilibrium.  \n",
    "- Include plot options $\\tt{ymin} \\text{ and } \\tt{ymax}$ to make an appropriate viewing window where we can see all the main details of the graph, and $\\tt{axes\\_labels}$ to label the axes accordingly.   \n",
    "\n",
    "You will upload a screenshot on Gradescope that shows your name, code, and output cell."
   ]
  },
  {
   "cell_type": "code",
   "execution_count": 0,
   "id": "c73688",
   "metadata": {
    "collapsed": false,
    "editable": false
   },
   "outputs": [
   ],
   "source": [
    "#Plot the differential equation with an appropriate viewing window and correctly-labeled axes here\n",
    "allee(X)=0.8*X*(1-(X/100))*((X/20)-1)\n",
    "plot(***, (X,0,***), ymin=***, ymax=***, color=\"blue\", axes_labels=[\"***\",\"***\"])"
   ]
  },
  {
   "cell_type": "code",
   "execution_count": 0,
   "id": "cb0946",
   "metadata": {
    "collapsed": false
   },
   "outputs": [
   ],
   "source": [
    "#copy and paste, then edit your code here"
   ]
  },
  {
   "cell_type": "markdown",
   "id": "a2708e",
   "metadata": {
    "collapsed": false,
    "editable": false
   },
   "source": [
    "#### <span style='font-family:Arial'><span style='color:#3f51b5'>**Linear Stability Analysis: Computational**</span></span>\n",
    "\n",
    "**Question 1.5:** We can also verify the stability of the equilibria using our ability to calculate the derivative function to give us the slope at any value.  In particular, we are computing the derivative of $X'$ with respect to $X$.  Recall that we can use the $\\tt{diff( ) }$ command from Homework 4 to have Cocalc do this for us.  Then all we need to do is plug in the particular population into the derivative to get the slope at that point.  In the code below, fill in the appropriate commands to have Cocalc compute the derivative and plug in the equilibrium points into that derivative.  You will upload a screenshot on Gradescope that shows your name, code, and output cell."
   ]
  },
  {
   "cell_type": "code",
   "execution_count": 0,
   "id": "b943ab",
   "metadata": {
    "collapsed": false,
    "editable": false
   },
   "outputs": [
   ],
   "source": [
    "allee(X)=0.8*X*(1-(X/100))*((X/20)-1)\n",
    "slope(X)=diff(***) ## fill in what should go in the diff command in order to compute the derivative \n",
    "eq1 = 0\n",
    "eq2 = 20\n",
    "eq3 = 100\n",
    "x1=slope(***) ## compute the derivative at the left most equilibrium\n",
    "x2=slope(***) ## compute the derivative at the middle equilibrium\n",
    "x3=slope(***) ## compute the derivative at the right most equilibrium\n",
    "print(\"The slope at X=\", eq1, \"is\", x1)\n",
    "print(\"The slope at X=\", eq2, \"is\", x2)\n",
    "print(\"The slope at X=\", eq3, \"is\", x3)"
   ]
  },
  {
   "cell_type": "code",
   "execution_count": 0,
   "id": "f49586",
   "metadata": {
    "collapsed": false
   },
   "outputs": [
   ],
   "source": [
    "#copy and paste, then edit your code here"
   ]
  },
  {
   "cell_type": "markdown",
   "id": "e2b451",
   "metadata": {
    "collapsed": false,
    "editable": false
   },
   "source": [
    "#### <span style='font-family:Arial'><span style='color:#3f51b5'>**Time Series Solutions**</span></span>\n",
    "**Question 1.6:**  Lastly, we will determine the stability of the equilibrium points using the time series solutions of the change equation.  We will use the same command $\\tt{desolve\\_odeint}$ from the previous homework to help us find four separate solutions corresponding to 4 distinct initial populations.  Run the code to see the four solutions on the same plot.\n",
    "\n",
    "Using the plotted solutions below, describe some qualitative aspects of the solutions that show how you know the stability of the equilibria.  Do not reference the change equation or change vectors, only the graphs below."
   ]
  },
  {
   "cell_type": "code",
   "execution_count": 0,
   "id": "2a558b",
   "metadata": {
    "collapsed": false,
    "editable": false
   },
   "outputs": [
   ],
   "source": [
    "# SOLUTION CURVES \n",
    "allee(x)=0.8*x*(1-(x/100))*((x/20)-1)\n",
    "\n",
    "# Aproximate from t = 0 to t = 10, with time step of 0.1 (see argument of srange() below)\n",
    "t = srange(0, 10, 0.1)\n",
    "\n",
    "# Differential Equation 1\n",
    "solution1 = desolve_odeint(allee(x), ics = 55, times = t, dvars = x)  # numerically computes the solution X so that X' = allee(x) with initial population the value of ics\n",
    "DE1 = list_plot(list(zip(t, solution1)), axes_labels = ['t', 'x'], color = 'forestgreen')\n",
    "\n",
    "# Differential Equation 2\n",
    "solution2 = desolve_odeint(allee(x), ics = 22, times = t, dvars = x)  # numerically computes the solution X so that X' = allee(x) with initial population the value of ics\n",
    "DE2 = list_plot(list(zip(t, solution2)), axes_labels = ['t', 'x'], color = 'darkblue')\n",
    "\n",
    "# Differential Equation 3\n",
    "solution2 = desolve_odeint(allee(x), ics = 150, times = t, dvars = x)  # numerically computes the solution X so thatX' = allee(x) with initial population the value of ics\n",
    "DE3 = list_plot(list(zip(t, solution2)), axes_labels = ['t', 'x'], color = 'orangered')\n",
    "\n",
    "# Differential Equation 4\n",
    "solution2 = desolve_odeint(allee(x), ics = 19, times = t, dvars = x)  # numerically computes the solution X so that X' = allee(x) with initial population the value of ics\n",
    "DE4 = list_plot(list(zip(t, solution2)), axes_labels = ['t', 'x'], color = 'magenta')\n",
    "\n",
    "show(DE1+DE2+DE3+DE4)"
   ]
  },
  {
   "cell_type": "markdown",
   "id": "68484d",
   "metadata": {
    "collapsed": false,
    "editable": false
   },
   "source": [
    "#### <span style='font-family:Arial'><span style='color:#3f51b5'>**Allee Effect Stability**</span></span>\n",
    "\n",
    "**Question 1.7:**  We have now computed the stability of the equilibria of this Allee Effect model in $\\underline{five}$ different ways.  Since it is the same model in each method, our answers for all five approaches should agree.  Using all the above information, classify the stability of the equilibria of our given model."
   ]
  },
  {
   "cell_type": "markdown",
   "id": "79adf3",
   "metadata": {
    "collapsed": false,
    "editable": false
   },
   "source": [
    "#### <span style='font-family:Arial'><span style='color:#3f51b5'>**Questions 2.1-2.4 (Extending Linear Stability Analysis)**</span></span>\n",
    "\n",
    "In class and earlier in this lab, we ran through the process of using linear stability analysis to classify equilibria as stable or unstable. Below is code for a new change equation called $\\tt{change(X)}$, and some tangent lines plotted at the three corresponding equilibria.  Run the code to see the plot.\n",
    "\n",
    "\n",
    "\n",
    "\n",
    "\n"
   ]
  },
  {
   "cell_type": "code",
   "execution_count": 0,
   "id": "e8ce80",
   "metadata": {
    "collapsed": false,
    "editable": false
   },
   "outputs": [
   ],
   "source": [
    "#New change equation for Exercise 3\n",
    "a=1\n",
    "b=5\n",
    "c=-2\n",
    "change(X)=(X+2)^2*(X-1)*(X-5)\n",
    "changeprime(X)=diff(change,X)\n",
    "tanline1(X)=changeprime(a)*(X-a)+change(a)\n",
    "tanline2(X)=changeprime(b)*(X-b)+change(b)\n",
    "tanline3(X)=changeprime(c)*(X-c)+change(c)\n",
    "eqn=plot(change,(X,-5,7), ymin=-120, ymax=200, axes_labels=[\"X\",\"X'\"])\n",
    "tan1=plot(tanline1,(X,0,2), ymin=-120, ymax=200, color=\"red\")\n",
    "tan2=plot(tanline2,(X,4.5,5.5), ymin=-120, ymax=200, color=\"red\")\n",
    "tan3=plot(tanline3,(X,-3,-1), ymin=-120, ymax=200, color=\"red\", thickness=2)\n",
    "show(eqn+tan1+tan2+tan3)"
   ]
  },
  {
   "cell_type": "markdown",
   "id": "5f2b4a",
   "metadata": {
    "collapsed": false,
    "editable": false
   },
   "source": [
    "**Question 2.1:** Classify the stability of the equilibrium points at $X=1$ and $X=5$.\n"
   ]
  },
  {
   "cell_type": "markdown",
   "id": "af5119",
   "metadata": {
    "collapsed": false,
    "editable": false
   },
   "source": [
    "Note that at $X=-2$, the tangent line has a slope of 0, so we can't use the same method of classification as in the previous question.  However, we still can classify the stability if we understand what the graph represents.\n",
    "\n",
    "**Question 2.2:**  The height of the graph represents the sign of the change vector since this is the graph of $X'$.  For values a little to the left of $X=-2$, what sign is the function and what does that mean about the direction of the change vector?\n",
    "\n",
    "**Question 2.3:**  For values a little to right of $X=-2$, what sign is the function and what does that mean about the direction of the change vector?\n",
    "\n",
    "**Question 2.4:**  Based on your answers to 2.2 and 2.3, how would you classify the stability of $X=-2$?"
   ]
  },
  {
   "cell_type": "markdown",
   "id": "431b36",
   "metadata": {
    "collapsed": false,
    "editable": false
   },
   "source": [
    "\n",
    "#### <span style='font-family:Arial'><span style='color:#3f51b5'>**Questions 3.1-3.2 (Plotting vector fields to view equilibria)**</span></span>\n",
    "\n",
    "By plotting vector fields in Cocalc, we can better view behavior of the system, especially near potential equilibria.  Use the information below to plot a system of equations and determine the equilibria of the system. \n",
    "\n",
    "**Question 3.1:** Tweak the example to plot a vector field for the system of equations below.\n",
    "\n",
    "$X' = Y + 1$ \n",
    "\n",
    "$Y' =-X + 0.1Y -3$ \n",
    "\n",
    "Don't forget to use asterisks for multiplication and to check your capitalization.\n",
    "\n",
    "Things to tweak:\n",
    "\n",
    "- Change equations for the vector field\n",
    "- Axes labels \\- label the horizontal axis with the initial\\(s\\) of your first name, and the vertical axis with the initial\\(s\\) of your last name. Keep each label in quotation marks in the plotting command below.\n",
    "- Change the color of the vector field \\(color PDF is in D2L\\) \n",
    "- If you need to, you can change the figure size to make it easier to see the details or to make it easier to fit the code and graph on one screenshot.\n",
    "\n",
    "You will upload a screenshot on Gradescope that shows your name, code, and output cell.\n",
    "\n",
    "**Question 3.2:** The plotted vector field has a single equilibrium point.  Classify this point. \\(Options in Gradescope\\)\n",
    "\n"
   ]
  },
  {
   "cell_type": "code",
   "execution_count": 0,
   "id": "28d389",
   "metadata": {
    "collapsed": false,
    "editable": false
   },
   "outputs": [
   ],
   "source": [
    "# SAMPLE CODE FOR QUESTION 3.1 and 3.2\n",
    "f(X,Y) = *** # change equation for X' = f(x,y)\n",
    "g(X,Y) = *** # change equation for Y' = g(x,y)\n",
    "vec(X,Y) = [ f(X,Y), g(X,Y)] # defines a vector field for a state point (x,y) with the change vector in the form [X', Y']\n",
    "plot_vector_field(vec(X,Y), (X, -10, 10), (Y, -10,10), color = \"dodgerblue\", axes_labels = [\"X\", \"Y\"], figsize=5) # uses command plot_vector_field() with an argument that includes the vector field function and bounds on the variables"
   ]
  },
  {
   "cell_type": "code",
   "execution_count": 0,
   "id": "c5b18d",
   "metadata": {
    "collapsed": false
   },
   "outputs": [
   ],
   "source": [
    "#copy and paste, then edit your code here"
   ]
  },
  {
   "cell_type": "markdown",
   "id": "c447df",
   "metadata": {
    "collapsed": false,
    "editable": false
   },
   "source": [
    "#### <span style='font-family:Arial'><span style='color:#3f51b5'>**Exercise 4.1-2 (Levins Model)**</span></span>\n",
    "\n",
    "Richard Levins introduced a way to study _metapopulations_ to see the health of the overall population.  A metapopulation is a collection of subpopulations.   Each subpopulation occupies a single patch, and even though a subpopulation may die, the same patch may be repopulated later by migration of a nearby subpopulation.  (You can see his original paper here: http://campus.lakeforest.edu/menke/PDFs/Bio373/Levins_1969_BulEntSocA.pdf)\n",
    "\n",
    "We let $P$ denote the proportion of patches that are occupied (so $0 \\leq P \\leq 1)$, $c$ be the colonization rate, and $m$ the mortality rate.  Then the differential equation governing the Levins model is $$P'=cP(1-P) -mP.$$  Below we will study two main cases: 1) If the mortality rate of mosquitoes is larger than the colonization rate, and 2) if the colonization rate is larger than the mortality rate.\n",
    "\n",
    "**Exercise 4.1:** Suppose we have the differential equation $$P'=0.5P(1-P)-1.5P.$$  This differential equation has only one equilibrium point in this model (remember, $P$ is the proportion of occupied patches, so $0 \\leq P \\leq 1$).  Use a command to solve this differential equation for the equilibrium value.\n",
    "\n",
    "\n",
    "\n",
    "\n"
   ]
  },
  {
   "cell_type": "code",
   "execution_count": 0,
   "id": "5f6369",
   "metadata": {
    "collapsed": false,
    "editable": false
   },
   "outputs": [
   ],
   "source": [
    "var('P')\n",
    "c= 0.5\n",
    "m=1.5\n",
    "Levins(P) = c * P * (1-P) - m*P\n",
    "#add your command here to solve the change equation for the equilibrium points. "
   ]
  },
  {
   "cell_type": "code",
   "execution_count": 0,
   "id": "304f60",
   "metadata": {
    "collapsed": false
   },
   "outputs": [
   ],
   "source": [
    "#copy and paste, then edit your code here"
   ]
  },
  {
   "cell_type": "markdown",
   "id": "9ab984",
   "metadata": {
    "collapsed": false,
    "editable": false
   },
   "source": [
    "**Exercise 4.2:** Suppose we have the new differential equation $P'=2P(1-P)-P$.  This differential equation has 2 equilibrium points.  Use a command to solve for them.   Classify the stability of the larger population.   Use any method you prefer, but specify the one you use and upload an image (screenshot or by hand) of what you did and explain your steps in arriving at your answer.  If using Cocalc, adapt the codes from Questions 1.2, 1.4, 1.5, 1.6 (so excluding the computation of Table of Signs by hand) to determine the stability of your equilibria."
   ]
  },
  {
   "cell_type": "code",
   "execution_count": 0,
   "id": "8f7269",
   "metadata": {
    "collapsed": false,
    "editable": false
   },
   "outputs": [
   ],
   "source": [
    "var('P')\n",
    "c= 2\n",
    "m=1\n",
    "Levins(P) = c * P*(1-P) - m*P\n",
    "#add your command here to solve the change equation for the equilibrium points. "
   ]
  },
  {
   "cell_type": "code",
   "execution_count": 0,
   "id": "33a91c",
   "metadata": {
    "collapsed": false
   },
   "outputs": [
   ],
   "source": [
    "#copy and paste, then edit your code here"
   ]
  },
  {
   "cell_type": "markdown",
   "id": "319468",
   "metadata": {
    "collapsed": false,
    "editable": false
   },
   "source": [
    "#### <span style='font-family:Arial'><span style='color:#3f51b5'>**Exercise 5.1-2 (Equilibria Combinations)**</span></span>\n",
    "\n",
    "Suppose that a continuous, one dimensional differential equation has only TWO separate equilibria.  (It might help to draw it out if you are stuck)\n",
    "\n",
    "**Exercise 5.1:** What is the maximum number of stable equilibria this system can have?  _See options on Gradescope._\n",
    "\n",
    "**Exercise 5.2:** What is the maximum number of unstable equilibria this system can have?  _See options on Gradescope._\n",
    "\n",
    "**Exercise 5.3:** What is the maximum number of equilibria that are neither stable nor unstable this system can have?  _See options on Gradescope._\n",
    "\n",
    "\n",
    "\n"
   ]
  },
  {
   "cell_type": "code",
   "execution_count": 0,
   "id": "1e20cf",
   "metadata": {
    "collapsed": false
   },
   "outputs": [
   ],
   "source": [
   ]
  }
 ],
 "metadata": {
  "kernelspec": {
   "argv": [
    "sage-9.8",
    "--python",
    "-m",
    "sage.repl.ipython_kernel",
    "--matplotlib=inline",
    "-f",
    "{connection_file}"
   ],
   "display_name": "SageMath 9.8",
   "env": {
   },
   "language": "sagemath",
   "metadata": {
    "cocalc": {
     "description": "Open-source mathematical software system",
     "priority": 1,
     "url": "https://www.sagemath.org/"
    }
   },
   "name": "sage-9.8",
   "resource_dir": "/ext/jupyter/kernels/sage-9.8"
  },
  "language_info": {
   "codemirror_mode": {
    "name": "ipython",
    "version": 3
   },
   "file_extension": ".py",
   "mimetype": "text/x-python",
   "name": "python",
   "nbconvert_exporter": "python",
   "pygments_lexer": "ipython3",
   "version": "3.11.1"
  }
 },
 "nbformat": 4,
 "nbformat_minor": 4
}
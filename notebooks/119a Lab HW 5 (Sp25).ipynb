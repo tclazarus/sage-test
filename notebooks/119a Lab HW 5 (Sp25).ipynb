{
 "cells": [
  {
   "cell_type": "markdown",
   "id": "23c90e",
   "metadata": {
    "collapsed": false,
    "editable": false
   },
   "source": [
    "## <span style='color:#e91e63'>LAB 5 \\(Due Friday, Feb 21 by 11:59pm\\). </span>\n",
    "\n",
    "<span style='color:#e91e63'>Since this lab focuses on Exam 1 review, it is shorter than usual and expected to be finished within your lab section time.  The 11:59pm due date is provided for additional flexibility.</span>\n",
    "\n",
    "<span style='color:#e91e63'>For each exercise, answer in the cell below each exercise. Make sure to transfer your answers to Gradescope for your final submission! Please note that some exercises require code while some just require an English answer to a code\\-related question. If so, begin the cell with \\#.</span>\n",
    "\n",
    "<span style='color:#e91e63'><u>Submitting:</u></span><span style='color:#e91e63'> You can keep scratch work in this notebook, but you will submit all your final responses on the assignment linked from D2L, which routes you to Gradescope for your submission. </span>\n",
    "\n"
   ]
  },
  {
   "cell_type": "markdown",
   "id": "05d001",
   "metadata": {
    "collapsed": false,
    "editable": false
   },
   "source": [
    "#### <span style='color:#3f51b5'><span style='font-family:Arial'>**Questions 1.1\\-3 \\(Syntax and reading code\\)**</span></span>\n",
    "\n",
    "Questions 1.1\\-4 ask you to read and think about a block of provided code. **You are not expected to fix, tweak, or run any code.**  Questions 1.1\\-5 check your understanding of how we refer to parts of code as we've done in labs and on homework.\n",
    "\n",
    "**Question 1.1:** The provided code defines a function.  What is the function's name? \n",
    "\n",
    "**Question 1.2:** The absolute value function is called using the command “abs” in the code below. What is the **argument** of the absolute value function used in the function below?\n",
    "\n",
    "**Question 1.3:** The given function will not compute any values unless a parameter is first defined.  Based on how the function is written, what word is used to call this parameter? \n",
    "\n"
   ]
  },
  {
   "cell_type": "code",
   "execution_count": 0,
   "id": "86158a",
   "metadata": {
    "collapsed": false,
    "editable": false
   },
   "outputs": [
   ],
   "source": [
    "# Code for Question 1.1\n",
    "var('chocolate') # Defines a nonstandard independent variable\n",
    "*** # You need to define something here\n",
    "Q3function(chocolate) = abs(chocolate^2 + vanilla) # This is the function that is defined and its name is shown right at the beginning"
   ]
  },
  {
   "cell_type": "markdown",
   "id": "a9d1f5",
   "metadata": {
    "collapsed": false,
    "editable": false
   },
   "source": [
    "#### <span style='color:#3f51b5'><span style='font-family:Arial'>**Questions 1.4\\-5 \\(Syntax and reading code continue\\) \\- both parts below refer to the same error message image**</span></span>\n",
    "\n",
    "**Question 1.4:** \\(_Refer to image in Gradescope\\)_ Assuming all parameter\\(s\\) have been correctly defined, you attempt to compute a value with this function and get an error message as shown in Gradescope.  How should you correct the code?\n",
    "\n",
    "**Question 1.5:** \\(_Refer to image in Gradescope\\)_ Putting the error aside, what was the student attempting to do with the last line of their code based on the previous image?  \n",
    "\n",
    "<img src=\".119a Lab HW 5 (Sp24).ipynb.upload/paste-0.8785083527831539\"     style=\"object-fit:cover\"/>\n",
    "\n"
   ]
  },
  {
   "cell_type": "markdown",
   "id": "aa279b",
   "metadata": {
    "collapsed": false,
    "editable": false
   },
   "source": [
    "#### <span style='color:#3f51b5'><span style='font-family:Arial'>**Questions 2.1\\-4 \\(Reading and interpreting basic code\\)**</span></span>\n",
    "\n",
    "The provided code creates a basic population model.  Use the provided code to answer the following questions.  The following questions can be  answered by reading the code alone and interpreting the given change equation as defined.  You may want to rewrite the given change equation \\(by hand\\) to think about some of the parts. \n",
    "\n",
    "**Question 2.1:** What kind of terms are used to create the given change equation for population, X? \n",
    "\n",
    "**Question 2.2:** How many outflow terms are used in this model?\n",
    "\n",
    "**Question 2.3:** Based on the defined parameter values, what sort of long term change do you expect in the population? \n",
    "\n",
    "**Question 2.4:** Does this population appear to have an equilibrium population \\(i.e. population size that has zero change in population size\\)?\n",
    "\n"
   ]
  },
  {
   "cell_type": "code",
   "execution_count": 0,
   "id": "40f08c",
   "metadata": {
    "collapsed": false,
    "editable": false
   },
   "outputs": [
   ],
   "source": [
    "# Code for Question 2\n",
    "a = 0.13\n",
    "b = 0.1\n",
    "Xprime(x) = a*x - b*x"
   ]
  },
  {
   "cell_type": "markdown",
   "id": "856d5e",
   "metadata": {
    "collapsed": false,
    "editable": false
   },
   "source": [
    "#### <span style='color:#3f51b5'><span style='font-family:Arial'>**Questions 3.1\\-2 \\(Change equations and feedback loops\\)**</span></span>\n",
    "\n",
    "Run the provided code to answer the questions below.  Assume that the model is only used for state variable values as given in the plot's horizonal viewing window. \n",
    "\n",
    "**Question 3.1:** Determine the type of graphic shown by the code. \n",
    "\n",
    "**Question 3.2:** Based on the given information, what can you say about the behavior of this system?\n",
    "\n",
    "\n"
   ]
  },
  {
   "cell_type": "code",
   "execution_count": 1,
   "id": "311131",
   "metadata": {
    "collapsed": false,
    "editable": false
   },
   "outputs": [
    {
     "data": {
      "image/png": "[encoded data removed]",
      "text/plain": [
       "Graphics object consisting of 1 graphics primitive"
      ]
     },
     "execution_count": 1,
     "metadata": {
     },
     "output_type": "execute_result"
    }
   ],
   "source": [
    "# Code for Question 3\n",
    "Change(x) = log(x + 5) + pi\n",
    "plot(Change(x),(x, 10, 100), figsize = 3.5, axes_labels = [\"X\", \"X' \"])"
   ]
  },
  {
   "cell_type": "markdown",
   "id": "e65ac7",
   "metadata": {
    "collapsed": false,
    "editable": false
   },
   "source": [
    "#### <span style='font-family:Arial'><span style='color:#3f51b5'>**Questions 4.1\\-3 \\(Working with multivariable functions in code\\)**</span></span>\n",
    "\n",
    "**Question 4.1:**  The code below defines the change equations $X'$ and $Y'$ for a particular type of model we've worked with before.  What model is represented by dx(X,Y) and dy(X,Y) ?\n",
    "\n",
    "**Question 4.2:** What is the output of this cell when the cell is executed?\n",
    "\n",
    "**Question 4.3:** This code defines a vector\\-valued function.  If you evaluated the vector-valued function at different points, what would the outputs represent?\n",
    "\n"
   ]
  },
  {
   "cell_type": "code",
   "execution_count": 3,
   "id": "5f68da",
   "metadata": {
    "collapsed": false,
    "editable": false
   },
   "outputs": [
   ],
   "source": [
    "# Code for Question 4\n",
    "var('X','Y')\n",
    "m = 0.01\n",
    "b = .012\n",
    "a = .3\n",
    "d = .005\n",
    "dx(X,Y) = m*b*(X-25)*Y - d*(X-25) # Defining first component of vector-valued function\n",
    "dy(X,Y) = a*Y - b*(X-25)*Y # Defining second component of vector-valued function\n",
    "vf1(X,Y)=[dx(X,Y), dy(X,Y)]  ## Defining a vector-valued function called \"vf1\""
   ]
  },
  {
   "cell_type": "markdown",
   "id": "33d837",
   "metadata": {
    "collapsed": false,
    "editable": false
   },
   "source": [
    "### <span style='color:#3f51b5'>**Questions 5.1\\-2 \\- see Gradescope**</span>\n",
    "\n"
   ]
  }
 ],
 "metadata": {
  "kernelspec": {
   "argv": [
    "sage-9.8",
    "--python",
    "-m",
    "sage.repl.ipython_kernel",
    "--matplotlib=inline",
    "-f",
    "{connection_file}"
   ],
   "display_name": "SageMath 9.8",
   "env": {
   },
   "language": "sagemath",
   "metadata": {
    "cocalc": {
     "description": "Open-source mathematical software system",
     "priority": 1,
     "url": "https://www.sagemath.org/"
    }
   },
   "name": "sage-9.8",
   "resource_dir": "/ext/jupyter/kernels/sage-9.8"
  },
  "language_info": {
   "codemirror_mode": {
    "name": "ipython",
    "version": 3
   },
   "file_extension": ".py",
   "mimetype": "text/x-python",
   "name": "python",
   "nbconvert_exporter": "python",
   "pygments_lexer": "ipython3",
   "version": "3.11.1"
  }
 },
 "nbformat": 4,
 "nbformat_minor": 4
}
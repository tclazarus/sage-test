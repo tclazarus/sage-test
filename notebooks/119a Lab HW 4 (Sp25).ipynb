{
 "cells": [
  {
   "cell_type": "markdown",
   "metadata": {
    "collapsed": false,
    "editable": false,
    "jupyter": {
     "outputs_hidden": false
    }
   },
   "source": [
    "## <span style='color:#e91e63'>LAB 4 \\(Due Wed, Feb 19 by 11:59pm\\). </span>\n",
    "\n",
    "<span style='color:#e91e63'>For each exercise, answer in the cell below each exercise. Make sure to transfer your answers to Gradescope for your final submission! Please note that some exercises require code while some just require an English answer to a code\\-related question. If so, begin the cell with \\#.</span>\n",
    "\n",
    "<span style='color:#e91e63'>Submitting: You can keep scratch work in this notebook, but you will submit all your final responses on the assignment linked from D2L, which routes you to Gradescope for your submission.</span>\n"
   ]
  },
  {
   "cell_type": "markdown",
   "metadata": {
    "collapsed": false,
    "editable": false,
    "jupyter": {
     "outputs_hidden": false
    }
   },
   "source": [
    "#### <span style='color:#3f51b5'>Questions 0.1\\-0.2</span>\n",
    "\n",
    "For this lab, we want to avoid doing any derivative rules by hand or using the limit definition, so we'll use SageMath to compute derivative functions for us.  The command <span style='font-family:Courier'>**diff\\(\\)**</span> will compute a derivative function for us, as long as we specify the desired  function and input variable in the argument.\n",
    "\n",
    "For example, executing the following line\n",
    "\n",
    "<span style='font-family:Courier'>**`diff(2^(x^2 - 9), x)`**</span>     \n",
    "\n",
    "will compute $f^{\\prime}(x)$  for $f(x) = 2 ^{x^2 - 9}$, with the assumption that we are treating <span style='font-family:Courier'>**x**</span> as our independent variable. \n",
    "\n"
   ]
  },
  {
   "cell_type": "markdown",
   "metadata": {
    "collapsed": false,
    "editable": false,
    "jupyter": {
     "outputs_hidden": false
    }
   },
   "source": [
    "**Question 0.1:** Run the code below. Using the information from the derivative command, which letter is being treated as the independent variable when determining the derivative of f? Which derivative rule options might be used to compute the derivative of f as given below? Discuss with your table. "
   ]
  },
  {
   "cell_type": "code",
   "execution_count": null,
   "metadata": {
    "collapsed": false,
    "editable": false,
    "jupyter": {
     "outputs_hidden": false
    }
   },
   "outputs": [],
   "source": [
    "# Question 0.1\n",
    "var(\"a\")\n",
    "f = x^a - e^(a*x)\n",
    "diff(f,x)\n",
    "# Using the information from the derivative command, which letter is being treating as the independent variable when determining the derivative of f? Which derivative rule options might be used to compute the derivative of f as given above?"
   ]
  },
  {
   "cell_type": "markdown",
   "metadata": {
    "collapsed": false,
    "editable": false,
    "jupyter": {
     "outputs_hidden": false
    }
   },
   "source": [
    "**Question 0.2:** Run the code below. Using the information from the derivative command, which letter is being treated as the independent variable when determining the derivative of g? What derivative rules might be used to compute the derivative of g as given below? Discuss with your table. "
   ]
  },
  {
   "cell_type": "code",
   "execution_count": null,
   "metadata": {
    "collapsed": false,
    "editable": false,
    "jupyter": {
     "outputs_hidden": false
    }
   },
   "outputs": [],
   "source": [
    "# Question 0.2\n",
    "var(\"a\")\n",
    "g = x^a - e^(a*x)\n",
    "diff(g,a)\n",
    "# Using the information from the derivative command, which letter is being treated as the independent variable when determining the derivative of g? What derivative rules might be used to compute the derivative of g as given above?"
   ]
  },
  {
   "cell_type": "markdown",
   "metadata": {
    "collapsed": false,
    "editable": false,
    "jupyter": {
     "outputs_hidden": false
    }
   },
   "source": [
    "#### <span style='color:#3f51b5'>**Question 1: Interpreting a function and its derivative**</span>\n",
    "\n",
    "Run the following cell to generate a list of values for the function $f(x) = (x - 3.52)^3 \\left ( \\dfrac{6-x}{x^2 + 1} \\right )$ .  **The output list will show ordered triples in the form $(x_0, f(x_0), f'(x_0))$.**  Use the items in the output list to answer the following questions.  $\\underline{ \\text{Do not use the graph of } f(x) \\text{ for your responses; your responses should reference the output list.}}$\n",
    "\n",
    "Out of the displayed values on the list....\n",
    "\n",
    "**Question 1.1:**  For which value(s) of $x$ do we see the largest value of $f$? Explain your choice by referencing the list to support your response.\n",
    "\n",
    "**Question 1.2:**   For which value(s) of $x$ is $f$ increasing the fastest?  Explain your choice by referencing the list to support your response.\n",
    "\n",
    "**Question 1.3:**   For which value(s) of $x$ is $f$ decreasing the fastest? Explain your choice by referencing the list to support your response.\n",
    "\n",
    "**Question 1.4:** Based on the values in the list, for what value of $x$ would you expect for there to be no change in $f$? Explain your choice by referencing the list to support your response. Hint: There might not be a single element that you would reference from the list.\n",
    "\n"
   ]
  },
  {
   "cell_type": "code",
   "execution_count": null,
   "metadata": {
    "collapsed": false,
    "editable": false,
    "jupyter": {
     "outputs_hidden": false
    }
   },
   "outputs": [],
   "source": [
    "# CODE FOR Question 1 (all parts)\n",
    "f(x) = (x - 3.52)^3 * ((6-x)/(x^2 + 1)) # defines the function\n",
    "fprime(x) = diff(f(x),x) # computes the derivative of the given function and gives it a name\n",
    "AllFvalues = []\n",
    "for t in srange(1.0,8,0.5): #defines a loop of input values from 1 to 8 with a step size of 0.5\n",
    "    values = (t, f(t), fprime(t)) #makes an ordered triple\n",
    "    AllFvalues.append(values) #Saves the ordered triples to a list\n",
    "display(AllFvalues) #displays the list of all ordered triples from the loop"
   ]
  },
  {
   "cell_type": "markdown",
   "metadata": {
    "collapsed": false,
    "editable": false,
    "jupyter": {
     "outputs_hidden": false
    }
   },
   "source": [
    "#### <span style='color:#3f51b5'>**Question 2: Geometric understanding of a tangent line \\(via animation\\)**</span>\n",
    "\n",
    "A tangent line is a linear approximation of the curve.  This means that points on the line are an approximation of points on the actual curve.  This line is found by taking a point from the graph of our function and making the slope of the line be equal to the value of the derivative of our function at that point. \n",
    "\n",
    "\n",
    "**Question 2.1:**  Run the cell below. This animation shows the tangent line for different points along the graph of the function. There are parts of the graph that the tangent line doesn't approximate very well if we are too far away from the point of tangency.  We can see that the length of the line segment changes depending on where the point of tangency is.  What connection do you recognize between the length of the line and a characteristic of the graph of the function?  _Answer on Gradescope_\n",
    "\n",
    "Note: You may need to click the button that pops up \"Fetch additional output\"\n",
    "\n"
   ]
  },
  {
   "cell_type": "code",
   "execution_count": null,
   "metadata": {
    "collapsed": false,
    "editable": false,
    "jupyter": {
     "outputs_hidden": false
    },
    "scrolled": true
   },
   "outputs": [],
   "source": [
    "#CODE FOR Question 2.1\n",
    "\n",
    "#Below is an animation showing the tangent line for different points along the graph of the function. \n",
    "f(x) = (x - 3.52)^3 * ((6-x)/(x^2 + 1))\n",
    "fprime(x) = diff(f(x),x)\n",
    "dt = 0.5\n",
    "lines = []\n",
    "for x0 in srange(0, 9, dt):\n",
    "    L = fprime(x0) * (x - x0) + f(x0)\n",
    "    fplot = plot(f, (x, 0,9), ymin = -10, ymax = 1, thickness = 2, color = 'darkorchid')\n",
    "    tanline = plot(L, (x, x0-dt, x0 + dt), color = \"lightseagreen\", thickness = 3, linestyle = \"dashed\")\n",
    "    both = fplot + tanline\n",
    "    lines.append(both)\n",
    "ReadySetGo = animate(lines)\n",
    "show(ReadySetGo, delay=50) # COMMENT THIS LINE AND RUN THE CELL AGAIN TO STOP THE ANIMATION.  \n"
   ]
  },
  {
   "cell_type": "markdown",
   "metadata": {
    "collapsed": false,
    "editable": false,
    "jupyter": {
     "outputs_hidden": false
    }
   },
   "source": [
    "#### <span style='color:#3f51b5'>**Question 3: Plot a tangent line**</span>\n",
    "\n",
    "Modify the code below to display the tangent line to a pre\\-determined function.  \n",
    "\n",
    "The code below graphs the given function and a tangent line to the function at the point $x = x_0$. The functions themselves have been defined for your in the code below and you only need to fill in the second line \\(pick a parameter value\\).  Then run the cell to see the graph.\n",
    "\n",
    "**Question 3.1:**  Choose at least three x-values between 5 and 20. One-by-one, replace the asterisks with your chosen x-value and run the cell. What do you notice about the relationship between the tangent line and the function?\n",
    "\n",
    "**Question 3.2:** Based on your response to Question 3.1, would you expect the value of the tangent line to overestimate or underestimate the true value of the given function for points near $x_0$?\n"
   ]
  },
  {
   "cell_type": "code",
   "execution_count": null,
   "metadata": {
    "collapsed": false,
    "editable": false,
    "jupyter": {
     "outputs_hidden": false
    }
   },
   "outputs": [],
   "source": [
    "# CODE FOR Question 3.1\n",
    "var('variable')\n",
    "x0 = ***# <--- Pick a value here between 5 and 20\n",
    "function(variable) = variable*cos(0.1*variable)*log(variable)  #Defines the function being plotted\n",
    "derivative(variable) = diff(function(variable), variable)  #defines the derivative function \n",
    "line(x) = function(x0) + derivative(x0)*(x-x0) #defines the tangent line\n",
    "p1=plot(function(x), (x,0,20), axes_labels=[\"x\",\"f(x)\"])  #makes a plot of the function\n",
    "p2=plot(line(x), (x,x0-2,x0+2), color=\"red\")  #makes a plot of the tangent line\n",
    "show(p1+p2) #displays both plots"
   ]
  },
  {
   "cell_type": "markdown",
   "metadata": {
    "collapsed": false,
    "editable": false,
    "jupyter": {
     "outputs_hidden": false
    }
   },
   "source": [
    "#### <span style='color:#3f51b5'>**Question 4: An application**</span>\n",
    "\n",
    "A 2005 study in the journal _Photochemistry and Photobiology_ described a relationship between prevalence of multiple sclerosis \\(MS\\) in the United States and latitude of the patient's location. The authors proposed that this correlation comes from the relationship of latitude and sunlight exposure, which then impacts vitamin D production, which protects against MS. \n",
    "\n",
    "The relationship is given by $P(L) = 499 - 30.8L+ 0.5L^2$ , where $L$ is latitude in degrees \\(north\\) and $P$ is the per capita prevalence of MS per 100 thousand persons.\n",
    "\n",
    "Based on results from this paper: [https://onlinelibrary.wiley.com/doi/abs/10.1562/2005\\-01\\-24\\-RA\\-424](https://onlinelibrary.wiley.com/doi/abs/10.1562/2005-01-24-RA-424) \n",
    "\n",
    "Use the code below to answer the following questions. \n",
    "\n",
    "**Question 4.1:**  How many per capita cases \\(per 100,000 persons\\)  would we expect in Tucson? \\(Tucson is at 32 $^{\\circ}$ north.\\)  Just include the number and units in your response.\n",
    "\n",
    "**Question 4.2:**  If $P(L)$ has units of cases of MS per 100,000 people, what would the units of $P'(L)$ be?  _Answer in Gradescope_\n",
    "\n",
    "**Question 4.3:**  At what rate do you expect the prevalence of MS cases per 100,000 persons to change in Tucson? Just include the number and units in your response.\n",
    "\n",
    "**Question 4.4:**  On Gradescope are four _separate_ statements that are not related to one another. **Match each mathematical expression in the problem with one of the four statements.  **\n"
   ]
  },
  {
   "cell_type": "code",
   "execution_count": 1,
   "metadata": {
    "collapsed": false,
    "editable": false,
    "jupyter": {
     "outputs_hidden": false
    }
   },
   "outputs": [],
   "source": [
    "# The coded model as given above.  Run this cell to initialize the functions you'll need for this question.\n",
    "var('lat')\n",
    "cases(lat) = 499 - 30.8*lat + 0.5 * lat^2  #Defines the function for number of cases per 100,000 people given a specific latitude.\n",
    "change(lat) = diff(cases(lat),lat) #Defines the function that has an output of the rate of change of the cases function."
   ]
  },
  {
   "cell_type": "code",
   "execution_count": null,
   "metadata": {
    "collapsed": false,
    "jupyter": {
     "outputs_hidden": false
    }
   },
   "outputs": [],
   "source": [
    "# Use this cell for any computations to answer Questions 4.1-4. "
   ]
  },
  {
   "cell_type": "markdown",
   "metadata": {
    "collapsed": false,
    "editable": false,
    "jupyter": {
     "outputs_hidden": false
    }
   },
   "source": [
    "#### <span style='color:#3f51b5'>**Question 5: Functions and their derivatives**</span>\n",
    "\n",
    "Modify the second line in the code below to display the given function and its derivative.\n",
    "\n",
    "\n",
    "**Question 5.1:**  Upload a screenshot of **your code and the generated plot.**\n",
    "\n",
    "**Question 5.2:**  Identify which color graph on the plot is $f$ and which is $f'$. Think about where each function is increasing/decreasing and where each is positive/negative. Which of the following relationships are shown? _Answer in Gradescope_\n",
    "\n"
   ]
  },
  {
   "cell_type": "code",
   "execution_count": null,
   "metadata": {
    "collapsed": false,
    "editable": false,
    "jupyter": {
     "outputs_hidden": false
    }
   },
   "outputs": [],
   "source": [
    "f(x) = 1-2*cos(x) #defines the function\n",
    "fprime(x) = *** # Replace the asterisks with a command to compute the derivative of the function given in the previous line.\n",
    "fplot = plot(f, (x, -5,5), ymin=-4, ymax=4, thickness = 2, color = 'darkorchid')  #defines the plot of the original function\n",
    "fprimeplot = plot(fprime, (x, -5, 5), ymin=-4, ymax=4, color = \"lightseagreen\", thickness = 3, linestyle = \"dashed\")  #defines the plot of the derivative function\n",
    "show(fplot + fprimeplot)  #shows both plots"
   ]
  },
  {
   "cell_type": "code",
   "execution_count": null,
   "metadata": {
    "collapsed": false,
    "jupyter": {
     "outputs_hidden": false
    }
   },
   "outputs": [],
   "source": [
    "#Copy and paste, then modify here"
   ]
  }
 ],
 "metadata": {
  "kernelspec": {
   "display_name": "SageMath 10.6",
   "language": "sage",
   "name": "sagemath"
  },
  "language_info": {
   "codemirror_mode": {
    "name": "ipython",
    "version": 3
   },
   "file_extension": ".py",
   "mimetype": "text/x-python",
   "name": "python",
   "nbconvert_exporter": "python",
   "pygments_lexer": "ipython3",
   "version": "3.12.5"
  }
 },
 "nbformat": 4,
 "nbformat_minor": 4
}

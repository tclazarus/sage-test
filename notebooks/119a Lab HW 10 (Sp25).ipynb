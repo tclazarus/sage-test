{
 "cells": [
  {
   "cell_type": "markdown",
   "id": "795db3",
   "metadata": {
    "collapsed": false,
    "deletable": true,
    "editable": false
   },
   "source": [
    "\n",
    "## <span style='color:#e91e63'>LAB 10 \\(Due Wed, April 9 by 11:59pm\\). </span>\n",
    "\n",
    "<span style='color:#e91e63'>For each exercise, answer in the cell below each exercise. Make sure to transfer your answers to Gradescope for your final submission! Please note that some exercises require code while some just require an English answer to a code\\-related question. If so, begin the cell with \\#.</span>\n",
    "\n",
    "<span style='color:#e91e63'><u>Submitting:</u></span><span style='color:#e91e63'> You can keep scratch work in this notebook, but you will submit all your final responses on the assignment linked from D2L, which routes you to Gradescope for your submission. </span>\n"
   ]
  },
  {
   "cell_type": "markdown",
   "id": "fb4e02",
   "metadata": {
    "collapsed": false,
    "editable": false
   },
   "source": [
    "#### <span style='color:#3f51b5'>Question 0, Part 1 \\(Plotting vector fields\\)</span>\n",
    "\n",
    "Here is a reminder about plotting vector fields.  Tweak the example below so that $X' = -Y$ and $Y' = X$.  This is a rotational vector field, which circulates around a single point.  Make the vector field orange.\n"
   ]
  },
  {
   "cell_type": "code",
   "execution_count": 0,
   "id": "f8857e",
   "metadata": {
    "collapsed": false,
    "editable": true
   },
   "outputs": [
   ],
   "source": [
    "# EXAMPLE \n",
    "var('X','Y')\n",
    "f(X,Y) = -Y  # change equation for X' = f(x,y)\n",
    "g(X,Y) = X # change equation for Y' = g(x,y)\n",
    "vec(X,Y) = [ f(X,Y), g(X,Y)] # defines a vector field for a state point (x,y) with the change vector in the form [X', Y']\n",
    "plot_vector_field(vec(X,Y), (X, -10, 10), (Y, -10,10), color = \"dodgerblue\", axes_labels = [\"X\", \"Y\"]) # uses command plot_vector_field() with an argument that includes the vector field function and bounds on the variables"
   ]
  },
  {
   "cell_type": "markdown",
   "id": "a1da43",
   "metadata": {
    "collapsed": false,
    "editable": false
   },
   "source": [
    "#### <span style='color:#3f51b5'>Question 0, Part 2 \\(Interpreting nullclines\\)</span>\n",
    "\n",
    "Run the code below to view a set of nullclines.  The nullclines for one variable are in blue, and the nullclines for the other variable are in red.  How many equilibrium points would you expect?\n"
   ]
  },
  {
   "cell_type": "code",
   "execution_count": 0,
   "id": "cfdc88",
   "metadata": {
    "collapsed": false,
    "editable": false
   },
   "outputs": [
   ],
   "source": [
    "# Code for Question 0, PART 2\n",
    "var('y')\n",
    "xmin = -3\n",
    "xmax = 15\n",
    "ymin = -5\n",
    "ymax = 5\n",
    "Xnull1 = implicit_plot(x == - 5/2*y^2 + 15, (x, xmin,xmax), (y, ymin, ymax), color = 'blue', axes_labels = [\"X\", \"Y\"])\n",
    "Xnull2 = implicit_plot(x == y^2, (x,xmin,xmax), (y, ymin, ymax), color = 'blue')\n",
    "Ynull1 = implicit_plot(y == 8*(x-2), (x,xmin,xmax), (y, ymin, ymax), color = 'red')\n",
    "show(Xnull1 + Xnull2 + Ynull1)"
   ]
  },
  {
   "cell_type": "markdown",
   "id": "431b36",
   "metadata": {
    "collapsed": false,
    "editable": false
   },
   "source": [
    "\n",
    "#### <span style='font-family:Arial'><span style='color:#3f51b5'>**Questions 1.1-1.2 (Plotting vector fields to view equilibria)**</span></span>\n",
    "\n",
    "By plotting vector fields in Cocalc, we can better view behavior of the system, especially near potential equilibria.  Use the information below to plot a system of equations and determine the equilibria of the system. \n",
    "\n",
    "**Question 1.1:** Tweak the example to plot a vector field for the system of equations below.\n",
    "\n",
    "$X' = 3Y + 1$ \n",
    "\n",
    "$Y' =-X + 1.1Y -3$ \n",
    "\n",
    "Don't forget to use asterisks for multiplication and to check your capitalization.\n",
    "\n",
    "Things to tweak:\n",
    "\n",
    "- Change equations for the vector field\n",
    "- Axes labels \\- label the horizontal axis with the initial\\(s\\) of your first name, and the vertical axis with the initial\\(s\\) of your last name. Keep each label in quotation marks in the plotting command below.\n",
    "- Change the color of the vector field \\(color PDF is in D2L\\) \n",
    "\n",
    "You will upload a screenshot on Gradescope that shows your name, code, and output cell.\n",
    "\n",
    "**Question 1.2:** The plotted vector field has a single equilibrium point.  Classify this point. Hint: Focus on the change vectors in the corners of the plot. \\(Options in Gradescope\\)\n",
    "\n"
   ]
  },
  {
   "cell_type": "code",
   "execution_count": 0,
   "id": "28d389",
   "metadata": {
    "collapsed": false,
    "editable": false
   },
   "outputs": [
   ],
   "source": [
    "# SAMPLE CODE FOR QUESTION 1.1 and 1.2\n",
    "f(X,Y) = *** # change equation for X' = f(X,Y)\n",
    "g(X,Y) = *** # change equation for Y' = g(X,Y)\n",
    "vec(X,Y) = [ f(X,Y), g(X,Y)] # defines a vector field for a state point (X,Y) with the change vector in the form [X', Y']\n",
    "plot_vector_field(vec(X,Y), (X, -10, 10), (Y, -10,10), color = \"dodgerblue\", axes_labels = [\"X\", \"Y\"]) # uses command plot_vector_field() with an argument that includes the vector field function and bounds on the variables"
   ]
  },
  {
   "cell_type": "code",
   "execution_count": 0,
   "id": "a5cce4",
   "metadata": {
    "collapsed": false
   },
   "outputs": [
   ],
   "source": [
    "# copy and paste code here"
   ]
  },
  {
   "cell_type": "markdown",
   "id": "f3d070",
   "metadata": {
    "collapsed": false,
    "editable": false
   },
   "source": [
    "## <span style='color:#3f51b5'>Exercise 2: Solving equations in terms of a particular variable</span>\n",
    "\n",
    "The command <span style='font-family:Courier'>solve\\(\\)</span>can be used to solve an equation **for a particular variable**.  This is a very quick way to isolate one variable.\n",
    "\n",
    "**Exercise 2.1:** The equation $4x^2 + 7y^2 = 8$ describes the graph of an ellipse \\(squished circle\\), and every point on the graph must make the equation true.  Is the point $(1,0)$ on the graph of the ellipse described? Explain how you know.\n",
    "\n",
    "**Exercise 2.2:** We can also describe all the points on a graph using function notation: $(x, f(x))$ . We can solve for $y$ in the previous equation and instead write the relationship as\n",
    "\n",
    "$f(x) = \\pm \\sqrt{\\dfrac{8-4x^2}{7}}$ where the ellipse is split into two parts, the top half (with the positive square root) and the bottom half (with the negative square root). \n",
    "\n",
    "You can evaluate $f(x)$ as written above for the same conclusion that you reached in the previous part.  What x\\-value would you evaluate in $f(x)$ in this case?  Give your answer in the form $\\fbox{x = \\underline{\\hspace{0.5cm}}}$ in Gradescope.  \n",
    "\n",
    "**Exercise 2.3:** True or false: $4x^2 + 7y^2 = 8$ gives the same graph as $y = \\sqrt{\\dfrac{8-4x^2}{7}}$ . \n",
    "\n",
    "**Exercise 2.4:** Along these lines, it's helpful to have Cocalc solve for a single variable when we have equations involving multiple variables and/or parameters.  This will be used later when we check that our plots show all the possible equilibrium points that we'd want to consider. Use the given example to find the S\\-nullclines of the given system.  Follow the instructions in the code comments.\n",
    "\n"
   ]
  },
  {
   "cell_type": "code",
   "execution_count": 0,
   "id": "c59d22",
   "metadata": {
    "collapsed": false,
    "editable": false
   },
   "outputs": [
   ],
   "source": [
    "# SAMPLE CODE FOR EXERCISE 2.4\n",
    "var('R', 'S') # Defines atypical variables\n",
    "Rprime(R, S) = 24*R - 2*R^2 - 3*R*S # The change equation for R\n",
    "Sprime(R, S) = 15*S - S^2 - 3*R*S # The change equation for S\n",
    "solve(Rprime(R,S) == 0, R) # Rewrites the R-nullclines in the form R = _____.  The 2nd component of the argument tells Cocalc which variable we want to solve for, once we have an equation equal to zero. Change the function for the change equation for S and change the 2nd component of the argument to S. "
   ]
  },
  {
   "cell_type": "code",
   "execution_count": 0,
   "id": "39ad8d",
   "metadata": {
    "collapsed": false
   },
   "outputs": [
   ],
   "source": [
    "# Modify the example above to find the S-nullclines of the system.  Modify your code so that your solutions are in the form S = _____."
   ]
  },
  {
   "cell_type": "markdown",
   "id": "7546ae",
   "metadata": {
    "collapsed": false,
    "editable": false
   },
   "source": [
    "#### <span style='font-family:Arial'><span style='color:#3f51b5'>**Questions 3.1-3.5 (Plotting nullclines & finding equilibria)**</span></span>\n",
    "\n",
    "We will use the same approaches as above to plot the nullclines and classify stability.\n",
    "\n",
    "**Question 3.1:**  Use the same approach from Question 1 to plot and define a vector field for the following system.\n",
    "\n",
    "$D' = 0.3D - 0.02D^2 - 0.05DM$ \n",
    "\n",
    "$M' = 0.2M - 0.04M^2 - 0.02DM$ \n",
    "\n",
    "Things you need to display in your code:\n",
    "\n",
    "- The vector field function should be named your first name. \n",
    "- The plot for the vector field should be named after your favorite thing to eat for lunch. \n",
    "\n",
    "You will upload a screenshot on Gradescope that shows your name, entire code, and output graphic.\n",
    "\n"
   ]
  },
  {
   "cell_type": "code",
   "execution_count": 0,
   "id": "643a0f",
   "metadata": {
    "collapsed": false,
    "editable": false
   },
   "outputs": [
   ],
   "source": [
    "# SAMPLE CODE FOR EXERCISE 3.1\n",
    "var('D', 'M') \n",
    "Dprime = *** # Define the change equations for D\n",
    "Mprime = *** # Define the change equation for M\n",
    "***(D, M) = [Dprime, Mprime] # Defines vector field\n",
    "*** = plot_vector_field(***(D,M), (D, -10, 10), (M, -10, 10), color = \"green\") # Name the plot as instructed above, update the function name from your previous line of code\n",
    "show(***) # the name of your plot above should go in the argument of show()"
   ]
  },
  {
   "cell_type": "code",
   "execution_count": 0,
   "id": "6d4ac3",
   "metadata": {
    "collapsed": false
   },
   "outputs": [
   ],
   "source": [
    "# copy and paste code here"
   ]
  },
  {
   "cell_type": "markdown",
   "id": "9c5e25",
   "metadata": {
    "collapsed": false,
    "editable": false
   },
   "source": [
    "**Question 3.2:** The code below will explicitly solve for the nullclines of our system.  Modify the code below so that the code outputs the nullclines of each variable.  How many nullclines are there for each variable?\n",
    "\n"
   ]
  },
  {
   "cell_type": "code",
   "execution_count": 0,
   "id": "9ddc1a",
   "metadata": {
    "collapsed": false,
    "editable": false
   },
   "outputs": [
   ],
   "source": [
    "# CODE FOR EXERCISE 3.2\n",
    "var('D','M')\n",
    "Dprime = *** # Same change equation as question 3.1\n",
    "Mprime = *** # Same change equation as question 3.1\n",
    "dnull = solve(Dprime == 0, D)\n",
    "mnull = solve(Mprime == 0, M)\n",
    "print(dnull + mnull) # Execute the cell to find the equations of your nullclines.  The M-nullclines will be equations written as M=... and the D-nullclines will be equation written as D=..."
   ]
  },
  {
   "cell_type": "code",
   "execution_count": 0,
   "id": "b76a96",
   "metadata": {
    "collapsed": false
   },
   "outputs": [
   ],
   "source": [
    "# copy and paste code here"
   ]
  },
  {
   "cell_type": "markdown",
   "id": "febded",
   "metadata": {
    "collapsed": false,
    "editable": false
   },
   "source": [
    "**Question 3.3:**   When plotting multiple graphs on the same graphic, it can be lengthy to update the viewing window & domain for each plot.  We can use parameters to automatically adjust the same viewing window for each plot we superimpose.  The code below superimposes the vector field of our system on our graph of the nullclines. \n",
    "\n",
    "You have now solved for all four nullclines of your system.  The code below plots the nullclines for you, with parameters defined so that the viewing window is the same for all the nullclines.  Tweak the parameters so that you can see all the equilibrium points. You will upload a picture of your final code and output plot so that all intersections of the nullclines are clearly shown.  \n",
    "\n",
    "Hint: it might be helpful to first make your viewing window large so that you can see all the equilibrium points, then shrink the window once you have a better grasp on where important points are.\n",
    "\n",
    "The blue nullclines are $D-$nullclines and the red nullclines are $M-$nullclines. \n"
   ]
  },
  {
   "cell_type": "code",
   "execution_count": 0,
   "id": "cd1959",
   "metadata": {
    "collapsed": false,
    "editable": false
   },
   "outputs": [
   ],
   "source": [
    "# SAMPLE CODE FOR EXERCISE 3.3\n",
    "var('D','M')\n",
    "Dmin = -1 # Changes minimum D-value on horizontal axis in viewing window\n",
    "Dmax = 5 # Changes maximum D-value on horizontal axis in viewing window\n",
    "Mmin = -1 # Changes minimum M-value on vertical axis in viewing window\n",
    "Mmax = 5 # Changes maximum M-value on vertical axis in viewing window\n",
    "Dnull1 = implicit_plot(D == - 5/2*M + 15, (D, Dmin, Dmax), (M, Mmin, Mmax), color = 'blue', axes_labels = [\"Deer\", \"Moose\"])\n",
    "Dnull2 = implicit_plot(D == 0, (D, Dmin, Dmax), (M, Mmin, Mmax), color = 'blue')\n",
    "Mnull1 = implicit_plot(M == -1/2*D + 5, (D, Dmin, Dmax), (M, Mmin, Mmax), color = 'red')\n",
    "Mnull2 = implicit_plot(M == 0, (D, Dmin, Dmax), (M, Mmin, Mmax), color = 'red')\n",
    "show(Dnull1 + Dnull2 + Mnull1 + Mnull2)"
   ]
  },
  {
   "cell_type": "code",
   "execution_count": 0,
   "id": "de930c",
   "metadata": {
    "collapsed": false
   },
   "outputs": [
   ],
   "source": [
    "# copy and paste code here"
   ]
  },
  {
   "cell_type": "markdown",
   "id": "3fd9e1",
   "metadata": {
    "collapsed": false,
    "editable": false
   },
   "source": [
    "**Question 3.4:** How many equilibrium points do you expect for this system? (Answer on Gradescope)\n",
    "\n"
   ]
  },
  {
   "cell_type": "markdown",
   "id": "314b7b",
   "metadata": {
    "collapsed": false,
    "editable": false
   },
   "source": [
    "**Question 3.5:**    As in Question 3.3, we can change our parameters for the viewing window to affect all the plots at once.  Note that you can change the viewing window to better see the behavior of the vector field around different points.  Use a small viewing window to determine behavior around the origin.  Use this smaller window around the origin to classify this equilibria of $(0, 0)$. \n",
    "\n",
    "What sort of stability does the equilibrium point seem to have?  (See Gradescope for options)\n"
   ]
  },
  {
   "cell_type": "code",
   "execution_count": 0,
   "id": "f2965b",
   "metadata": {
    "collapsed": false,
    "editable": false
   },
   "outputs": [
   ],
   "source": [
    "# CODE FOR EXERCISE 3.5\n",
    "var('D', 'M') \n",
    "Dmin = -10 # Change this\n",
    "Dmax = 10 # and this\n",
    "Mmin = -10 # and this\n",
    "Mmax = 10 # and this\n",
    "Dprime = 0.3*D - 0.02*D^2 - 0.05 * D * M # Defines the change equations for D, don't change this.\n",
    "Mprime = 0.2*M - 0.04*M^2 - 0.02 * D * M # Defines the change equation for M, don't change this.\n",
    "sasquatch(D, M) = [Dprime, Mprime] # Defines vector field, don't change this.\n",
    "breakfast2 = plot_vector_field(sasquatch(D,M), (D, Dmin, Dmax), (M, Mmin, Mmax), color = \"green\") # Don't change this.\n",
    "Dnull1 = implicit_plot(D == - 5/2*M + 15, (D, Dmin, Dmax), (M, Mmin, Mmax), color = 'blue', axes_labels = [\"Deer\", \"Moose\"])\n",
    "Dnull2 = implicit_plot(D == 0, (D, Dmin, Dmax), (M, Mmin, Mmax), color = 'blue')\n",
    "Mnull1 = implicit_plot(M == -1/2*D + 5, (D, Dmin, Dmax), (M, Mmin, Mmax), color = 'red')\n",
    "Mnull2 = implicit_plot(M == 0, (D, Dmin, Dmax), (M, Mmin, Mmax), color = 'red')\n",
    "show(Dnull1 + Dnull2 + Mnull1 + Mnull2 + breakfast2) # Don't change this."
   ]
  },
  {
   "cell_type": "code",
   "execution_count": 0,
   "id": "2ae25a",
   "metadata": {
    "collapsed": false
   },
   "outputs": [
   ],
   "source": [
    "# copy and paste code here"
   ]
  },
  {
   "cell_type": "markdown",
   "id": "456786",
   "metadata": {
    "collapsed": false,
    "editable": false
   },
   "source": [
    "## <span style='color:#3f51b5'>**Question 4 (Finding explicit solutions for equilibria)**</span>\n",
    "\n",
    "We can use the solve\\(\\) command to solve systems of equations for us, if we define our equations carefully.  The following parts walk you through these computations.\n",
    "\n",
    "**Question 4.1:** Execute the code to find the nullclines of the system and answer the question in Gradescope. \n"
   ]
  },
  {
   "cell_type": "code",
   "execution_count": 0,
   "id": "1e8b91",
   "metadata": {
    "collapsed": false,
    "editable": false
   },
   "outputs": [
   ],
   "source": [
    "# SAMPLE CODE FOR EXERCISE 4.1\n",
    "var('D', 'M') \n",
    "Dprime = 0.3*D - 0.02*D^2 - 0.05 * D * M # Define the change equation for D\n",
    "Mprime = 0.2*M - 0.04*M^2 - 0.02 * D * M # Define the change equation for M\n",
    "dnull = solve(Dprime == 0, D)\n",
    "mnull = solve(Mprime == 0, M)\n",
    "print(\"D-nullclines are\", dnull[0], \" and \", dnull[1])\n",
    "print(\"M-nullclines are\", mnull[0], ' and ', mnull[1])"
   ]
  },
  {
   "cell_type": "markdown",
   "id": "8809da",
   "metadata": {
    "collapsed": false,
    "editable": false
   },
   "source": [
    "**Question 4.2:** Copy and paste your results above to define the nullclines as separate variables for the code below.  \\(Remember that a variable is ANYTHING you can define with code and reference or \"retrieve\" later on.\\)  The first one is defined for you as an example; pay close attention to the equals signs.\n",
    "\n",
    "The first line shows you how to define a variable as a nullcline equation \\(a single D\\-nullcline is filled in for you\\).  You will need to fill in the remaining 3 nullclines and then execute the code to find an equilibrium point. \n",
    "\n",
    "Upload a picture of your code with the output cell that shows a single equilibrium point.  Your answer will be in the form $(D, M) = (0,\\underline{\\hspace{0.5cm}})$ based on how the code is written. \n"
   ]
  },
  {
   "cell_type": "code",
   "execution_count": 0,
   "id": "4ce28a",
   "metadata": {
    "collapsed": false,
    "editable": false
   },
   "outputs": [
   ],
   "source": [
    "# SAMPLE CODE FOR EXERCISE 4.2\n",
    "D,M = var('D,M')\n",
    "D1 = D == 0 # Define the first D-nullcline as D1.  Use single = for defining; use == for the nullcline part. \n",
    "D2 = D == *** # Define the second D-nullcline\n",
    "M1 = M == *** # Define the first M-nullcline as the equation that represents a horizontal line.\n",
    "M2 = M == *** # Defines the ENTIRE PART of the second M-nullcline\n",
    "solve([D1, M1], D,M) # Find the equilibrium point using a pair of nullclines (1 D-nullcline, 1 M-nullcline as writting in the pair of the first component of the argument)"
   ]
  },
  {
   "cell_type": "code",
   "execution_count": 0,
   "id": "908fc5",
   "metadata": {
    "collapsed": false
   },
   "outputs": [
   ],
   "source": [
    "# copy and paste code here"
   ]
  },
  {
   "cell_type": "markdown",
   "id": "276fc4",
   "metadata": {
    "collapsed": false,
    "editable": false
   },
   "source": [
    "**Question 4.3:** The code below modifies the previous version to find ALL possible equilibrium points \\(we know there are four!\\).  The code now defines <span style='font-family:Courier'>eq1</span>, <span style='font-family:Courier'>eq2</span>, <span style='font-family:Courier'>eq3</span>, and <span style='font-family:Courier'>eq4</span> to represent the equilibrium points. Modify the lines for <span style='font-family:Courier'>eq2, eq3, </span><span style='font-family:Arial'>and</span><span style='font-family:Courier'> eq4 </span><span style='font-family:Arial'>to get all 4 results with one block of code. </span>\n"
   ]
  },
  {
   "cell_type": "code",
   "execution_count": 0,
   "id": "07e6c8",
   "metadata": {
    "collapsed": false,
    "editable": false
   },
   "outputs": [
   ],
   "source": [
    "# SAMPLE CODE FOR EXERCISE 4.3\n",
    "D,M = var('D,M')\n",
    "D1 = D == -5/2*M + 15 # Defines the first D-nullcline\n",
    "D2 = D == 0 # Defines the second D-nullcline\n",
    "M1 = M == -1/2*D + 5 # Defines the first M-nullcline\n",
    "M2 = M == 0 # Defines the second M-nullcline\n",
    "eq1 = solve([D2, M2], D,M) # Find the equilibrium point using a pair of nullclines (1 D-nullcline, 1 M-nullcline in the first component of the argument)\n",
    "\n",
    "#The code as set up will find the trivial equilibrium point at the origin, when D' = 0 and M' = 0.  Use this code to find the other 3 equilibrium points.  You will upload a screenshot of your findings. \n",
    "\n",
    "eq2 = solve([***, ***], D,M) # Fill in nullclines to find a new equilibrium point\n",
    "eq3 = solve([***, ***], D,M) # Fill in nullclines to find a new equilibrium point\n",
    "eq4 = solve([***, ***], D,M) # Fill in nullclines to find a new equilibrium point\n",
    "\n",
    "print(eq1 + eq2 + eq3 + eq4)"
   ]
  },
  {
   "cell_type": "code",
   "execution_count": 0,
   "id": "e92476",
   "metadata": {
    "collapsed": false
   },
   "outputs": [
   ],
   "source": [
    "# copy and paste code here"
   ]
  },
  {
   "cell_type": "markdown",
   "id": "baeebd",
   "metadata": {
    "collapsed": false,
    "editable": false
   },
   "source": [
    "## <span style='color:#3f51b5'>Exercise 5: A vector field for fun</span>\n",
    "\n",
    "Below is the plot of a vector field which has complicated nullclines \\(if any\\).  Why is it more complicated to find the nullclines or equilibrium points for this system?  You can refer to the change equations or the features of the vector field that you see. \n"
   ]
  },
  {
   "cell_type": "code",
   "execution_count": 0,
   "id": "2b217f",
   "metadata": {
    "collapsed": false,
    "editable": false
   },
   "outputs": [
   ],
   "source": [
    "# SAMPLE CODE FOR EXERCISE 5\n",
    "px(x,y) = sin(x+y) + sin(x)\n",
    "py(x,y) = cos(-y)\n",
    "p1 = plot_vector_field([px, py], (x,-3,3), (y, -3, 3), color = 'magenta')\n",
    "show(p1)"
   ]
  }
 ],
 "metadata": {
  "kernelspec": {
   "argv": [
    "sage-9.8",
    "--python",
    "-m",
    "sage.repl.ipython_kernel",
    "--matplotlib=inline",
    "-f",
    "{connection_file}"
   ],
   "display_name": "SageMath 9.8",
   "env": {
   },
   "language": "sagemath",
   "metadata": {
    "cocalc": {
     "description": "Open-source mathematical software system",
     "priority": 1,
     "url": "https://www.sagemath.org/"
    }
   },
   "name": "sage-9.8",
   "resource_dir": "/ext/jupyter/kernels/sage-9.8"
  },
  "language_info": {
   "codemirror_mode": {
    "name": "ipython",
    "version": 3
   },
   "file_extension": ".py",
   "mimetype": "text/x-python",
   "name": "python",
   "nbconvert_exporter": "python",
   "pygments_lexer": "ipython3",
   "version": "3.11.1"
  }
 },
 "nbformat": 4,
 "nbformat_minor": 4
}
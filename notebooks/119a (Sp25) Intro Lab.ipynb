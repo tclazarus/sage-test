{
 "cells": [
  {
   "cell_type": "markdown",
   "id": "45190e",
   "metadata": {
    "collapsed": false,
    "editable": false
   },
   "source": [
    "## <span style='color:#e91e63'> Intro to Lab Homework \\(Fri, Jan 17\\) </span>\n",
    "\n",
    "<span style='color:#e91e63'>We will use Sagemath \\(mathematical computational tool\\) in Cocalc.  Coding cells can be used to \"tell\" Cocalc what information to remember and use\\-\\-this allows us greater computational power! </span>\n",
    "\n",
    "<span style='color:#e91e63'> Since we have more flexibility in computation, there are some new things to be careful about in defining values and functions.  </span>\n",
    "\n",
    "\n",
    "\n"
   ]
  },
  {
   "cell_type": "markdown",
   "id": "a6d86f",
   "metadata": {
    "collapsed": false,
    "editable": false
   },
   "source": [
    "#### <span style='color:#3f51b5'>**Question 1: Some basic commands to practice executing code**</span>\n",
    "\n",
    "Often times, we may want to annotate code with comments.  These comments will begin with a pound sign \\(AKA hash tag, \\#\\). Comments will be ignored for the computation.\n",
    "\n",
    "Note: To execute the code in the cells below, press \"shift\" \\+ \"enter\".\n",
    "\n"
   ]
  },
  {
   "cell_type": "markdown",
   "id": "02ef4b",
   "metadata": {
    "collapsed": false,
    "editable": false
   },
   "source": [
    "<u>**Question 1.1:**</u><u> </u>You will execute the code in a cell below by pressing \"shift\" \\+ \"enter\". Try with one line of code first. Try below.\n",
    "\n",
    "Compute the square root of 625 by pressing 'shift \\+ enter' to compute \\(for Mac users, try 'command \\+ enter'\\)\n"
   ]
  },
  {
   "cell_type": "code",
   "execution_count": 0,
   "id": "b2132f",
   "metadata": {
    "collapsed": false,
    "editable": false
   },
   "outputs": [
   ],
   "source": [
    "# Code for Question 1.1: \n",
    "sqrt(625)"
   ]
  },
  {
   "cell_type": "markdown",
   "id": "3c395e",
   "metadata": {
    "collapsed": false,
    "editable": false
   },
   "source": [
    "<u>**Question 1.2:**</u><u> </u> Comments in a code are ignored.  Compare this result with your previous result from Question 1.1. \n",
    "\n"
   ]
  },
  {
   "cell_type": "code",
   "execution_count": 0,
   "id": "c037e2",
   "metadata": {
    "collapsed": false,
    "editable": false
   },
   "outputs": [
   ],
   "source": [
    "# Code for Question 1.2: Compute the square root of 625 by pressing 'shift + enter' to compute (for Mac users, try 'command + enter')\n",
    "sqrt(625) # blah blah blah this is a comment\n",
    "# so is this"
   ]
  },
  {
   "cell_type": "markdown",
   "id": "75fc6b",
   "metadata": {
    "collapsed": false,
    "editable": false
   },
   "source": [
    "<u>**Question 1.3:**</u><u> </u> If there are multiple lines of code in a cell, the computation will be completed in order from top to bottom, with only the final result displayed.  Run the cell below and notice the output that Cocalc displays.\n",
    "\n"
   ]
  },
  {
   "cell_type": "code",
   "execution_count": 0,
   "id": "e281ba",
   "metadata": {
    "collapsed": false,
    "editable": false
   },
   "outputs": [
   ],
   "source": [
    "# Code for Question 1.3: \n",
    "sqrt(625)\n",
    "84 + 3"
   ]
  },
  {
   "cell_type": "markdown",
   "id": "d68e96",
   "metadata": {
    "collapsed": false,
    "editable": false
   },
   "source": [
    "<u>**Question 1.4:**</u> Compare this result with Question 1.3\n"
   ]
  },
  {
   "cell_type": "code",
   "execution_count": 0,
   "id": "a8db17",
   "metadata": {
    "collapsed": false,
    "editable": false
   },
   "outputs": [
   ],
   "source": [
    "# Code for Question 1.4: \n",
    "84 + 3\n",
    "sqrt(625)"
   ]
  },
  {
   "cell_type": "markdown",
   "id": "6a7fdc",
   "metadata": {
    "collapsed": false,
    "editable": false
   },
   "source": [
    "<u>**Question 1.5:**</u> When multiplying numbers, we need to use an asterisk between anything that is multiplied together. Modify the code below using an asterisk so that the output cell gives you 100.\n",
    "\n",
    "You can also click 'Copy' in the upper right above the code cell to copy the code and then paste below to work.\n"
   ]
  },
  {
   "cell_type": "code",
   "execution_count": 0,
   "id": "1000c6",
   "metadata": {
    "collapsed": false,
    "editable": false
   },
   "outputs": [
   ],
   "source": [
    "# Code to modify for Question 1.5: \n",
    "4 25 # This is the line of \"code\" you should modify, according to instructions above."
   ]
  },
  {
   "cell_type": "code",
   "execution_count": 0,
   "id": "d1c2ba",
   "metadata": {
    "collapsed": false
   },
   "outputs": [
   ],
   "source": [
    "# Copy and Paste, then modify here\n"
   ]
  },
  {
   "cell_type": "markdown",
   "id": "07fb2a",
   "metadata": {
    "collapsed": false,
    "editable": false
   },
   "source": [
    "#### <span style='color:#3f51b5'>**Question 2: Some basic commands to practice defining parameters**</span>\n",
    "\n",
    "We can define functions and values in Cocalc manually.  We'll start with a basic example where we use parameter values.  Syntax matters\\-\\-spelling, capitalization, and spacing are all important. \n",
    "\n",
    "In our course, we'll refer to \"parameters\" as a fixed value that we refer to.  Unlike input and output variables, parameters will not change values although we may reference a parameter in computations later on.\n"
   ]
  },
  {
   "cell_type": "markdown",
   "id": "259c0b",
   "metadata": {
    "collapsed": false,
    "editable": false
   },
   "source": [
    "<u>**Question 2.1:**</u> Defining a parameter. When defining values or functions, we are only telling Sagemath to \"remember\" information.  No output cell is needed.\n",
    "\n"
   ]
  },
  {
   "cell_type": "code",
   "execution_count": 1,
   "id": "98370a",
   "metadata": {
    "collapsed": false,
    "editable": false
   },
   "outputs": [
   ],
   "source": [
    "# Code for Question 2.1: Execute the code below so that you can reference these values in later cells.\n",
    "parameter1 = 25\n",
    "Parameter2 = sqrt(9)"
   ]
  },
  {
   "cell_type": "markdown",
   "id": "29cf0b",
   "metadata": {
    "collapsed": false,
    "editable": false
   },
   "source": [
    "<u>**Question 2.2:**</u> Retrieving a parameter value.  Now that you have defined values, you can retrieve those values in an output cell by \"calling\" that name.  To \"call\" a parameter, type the parameter name and run the cell. Follow instructions in the comment. \n",
    "\n"
   ]
  },
  {
   "cell_type": "code",
   "execution_count": 0,
   "id": "e5e986",
   "metadata": {
    "collapsed": false,
    "editable": true
   },
   "outputs": [
   ],
   "source": [
    "# Question 2.2: Determine which parameter to \"call\" from Question 2.1 so that you have an output cell that displays the number 3.\n"
   ]
  },
  {
   "cell_type": "markdown",
   "id": "b94f1d",
   "metadata": {
    "collapsed": false,
    "editable": false
   },
   "source": [
    "<u>**Question 2.3:**</u><u> </u>Using parameter values in computation.  Based on the information from Questions 2.1 and 2.2, combine two different parameters using addition, multiplication, subtraction, or division so that your output cell shows the number 75.  <i>Reminder</i>: syntax and spelling matter!\n",
    "\n"
   ]
  },
  {
   "cell_type": "code",
   "execution_count": 0,
   "id": "804380",
   "metadata": {
    "collapsed": false,
    "editable": true
   },
   "outputs": [
   ],
   "source": [
    "# Code for Question 2.3: "
   ]
  },
  {
   "cell_type": "markdown",
   "id": "ee3d7d",
   "metadata": {
    "collapsed": false,
    "editable": false
   },
   "source": [
    "<u>**Question 2.4:**</u> Correcting syntax. The following code will result in an error because parameter name(s) are incorrect.  There is also a second error in the same line of code.  Fix the syntax so that you correctly combine parameter values with an output cell that displays the value 8. \n"
   ]
  },
  {
   "cell_type": "code",
   "execution_count": 0,
   "id": "fb0998",
   "metadata": {
    "collapsed": false,
    "editable": false
   },
   "outputs": [
   ],
   "source": [
    "# Code for Question 2.4:\n",
    "sqrt(Parameter1 + parameter2"
   ]
  },
  {
   "cell_type": "code",
   "execution_count": 0,
   "id": "73ab73",
   "metadata": {
    "collapsed": false
   },
   "outputs": [
   ],
   "source": [
    "# Copy and Paste, then modify here"
   ]
  },
  {
   "cell_type": "markdown",
   "id": "1746dc",
   "metadata": {
    "collapsed": false,
    "editable": false
   },
   "source": [
    "#### <span style='color:#3f51b5'>**Question 3: Running code in a single cell**</span>\n",
    "\n",
    "Practice writing some of your own code all in a <u>single</u> cell.\n",
    "\n",
    "1. Define a parameter so that your first name is equal to the number of letters in your first name. \n",
    "\n",
    "2. Define a parameter so that your last name is equal to the number of letters in your last name. \n",
    "\n",
    "3. Define a function that computes the difference of these two parameters and adds the input value. Name this function your favorite animal.  <i>Note: The difference between a parameter and a function.  A function has to indicate the independent variable, but since a parameter is just a number, the parameter does not.</i>\n",
    "\n",
    "- Example: bunny(x) = Tynan - Lazarus + x\n",
    "\n",
    "4. Test your function by evaluating x = 0. (Hint: use function notation from Step 3) \n",
    "\n",
    "5. Update the parameter you defined in Step 1 to be 100. \n",
    "\n",
    "6. Reevaluate the same function at x = 0 without defining anything else new.  \n",
    "\n",
    "Note that you should have <u><b>four</b></u> lines of code when you finish making this cell.\n",
    "\n"
   ]
  },
  {
   "cell_type": "code",
   "execution_count": 3,
   "id": "906c0d",
   "metadata": {
    "collapsed": false
   },
   "outputs": [
   ],
   "source": [
    "# Code for Question 3:"
   ]
  },
  {
   "cell_type": "markdown",
   "id": "933c76",
   "metadata": {
    "collapsed": false,
    "editable": false
   },
   "source": [
    "#### <span style='color:#3f51b5'>**Question 4: Introducing functions**</span>\n",
    "\n",
    "<u>**Question 4.1:**</u> Copy the code below and choose values for the given parameters \\(replace the asterisks \\*\\*\\* with the described in the comments).  Then run the cell and answer the comment shown in the final line."
   ]
  },
  {
   "cell_type": "code",
   "execution_count": 0,
   "id": "74329a",
   "metadata": {
    "collapsed": false,
    "editable": false
   },
   "outputs": [
   ],
   "source": [
    "# Code for Question 4.1\n",
    "m = ***   #pick some decimal value\n",
    "b = ***  #pick your favorite number here\n",
    "y(x) = m*x +b\n",
    "point(x) = [x, y(x)]\n",
    "point(0)  # What is the mathematical significance of this point?"
   ]
  },
  {
   "cell_type": "code",
   "execution_count": 0,
   "id": "dfdb5b",
   "metadata": {
    "collapsed": false
   },
   "outputs": [
   ],
   "source": [
    "# Copy and Paste, then modify here"
   ]
  },
  {
   "cell_type": "markdown",
   "id": "9605a6",
   "metadata": {
    "collapsed": false,
    "editable": false
   },
   "source": [
    "<u>**Question  4.2:**</u>  Run the code below.  Based on the ouptut cell, what do you think this command is telling Cocalc to do?"
   ]
  },
  {
   "cell_type": "code",
   "execution_count": 0,
   "id": "8931cb",
   "metadata": {
    "collapsed": false,
    "editable": false
   },
   "outputs": [
   ],
   "source": [
    "plot(y,x, (x, -100,100))"
   ]
  }
 ],
 "metadata": {
  "kernelspec": {
   "argv": [
    "sage-9.8",
    "--python",
    "-m",
    "sage.repl.ipython_kernel",
    "--matplotlib=inline",
    "-f",
    "{connection_file}"
   ],
   "display_name": "SageMath 9.8",
   "env": {
   },
   "language": "sagemath",
   "metadata": {
    "cocalc": {
     "description": "Open-source mathematical software system",
     "priority": 1,
     "url": "https://www.sagemath.org/"
    }
   },
   "name": "sage-9.8",
   "resource_dir": "/ext/jupyter/kernels/sage-9.8"
  },
  "language_info": {
   "codemirror_mode": {
    "name": "ipython",
    "version": 3
   },
   "file_extension": ".py",
   "mimetype": "text/x-python",
   "name": "python",
   "nbconvert_exporter": "python",
   "pygments_lexer": "ipython3",
   "version": "3.11.1"
  }
 },
 "nbformat": 4,
 "nbformat_minor": 4
}